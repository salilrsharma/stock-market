{
 "cells": [
  {
   "cell_type": "code",
   "execution_count": 1,
   "metadata": {},
   "outputs": [
    {
     "ename": "ModuleNotFoundError",
     "evalue": "No module named 'hopsworks'",
     "output_type": "error",
     "traceback": [
      "\u001b[0;31m---------------------------------------------------------------------------\u001b[0m",
      "\u001b[0;31mModuleNotFoundError\u001b[0m                       Traceback (most recent call last)",
      "Cell \u001b[0;32mIn[1], line 6\u001b[0m\n\u001b[1;32m      4\u001b[0m \u001b[38;5;28;01mimport\u001b[39;00m \u001b[38;5;21;01mnumpy\u001b[39;00m \u001b[38;5;28;01mas\u001b[39;00m \u001b[38;5;21;01mnp\u001b[39;00m\n\u001b[1;32m      5\u001b[0m \u001b[38;5;28;01mfrom\u001b[39;00m \u001b[38;5;21;01mdatetime\u001b[39;00m \u001b[38;5;28;01mimport\u001b[39;00m datetime, timedelta\n\u001b[0;32m----> 6\u001b[0m \u001b[38;5;28;01mimport\u001b[39;00m \u001b[38;5;21;01mhopsworks\u001b[39;00m\n",
      "\u001b[0;31mModuleNotFoundError\u001b[0m: No module named 'hopsworks'"
     ]
    }
   ],
   "source": [
    "import pandas as pd\n",
    "import yfinance as yf\n",
    "import plotly.express as px\n",
    "import numpy as np\n",
    "from datetime import datetime, timedelta"
   ]
  },
  {
   "cell_type": "code",
   "execution_count": 22,
   "metadata": {},
   "outputs": [],
   "source": [
    "def compute_rsi(data, window=14):\n",
    "    delta = data['Adj Close'].diff()\n",
    "    gain = (delta.where(delta > 0, 0)).rolling(window=window).mean()\n",
    "    loss = (-delta.where(delta < 0, 0)).rolling(window=window).mean()\n",
    "    rs = gain / loss\n",
    "    rsi = 100 - (100 / (1 + rs))\n",
    "    return rsi"
   ]
  },
  {
   "cell_type": "code",
   "execution_count": 23,
   "metadata": {},
   "outputs": [
    {
     "name": "stderr",
     "output_type": "stream",
     "text": [
      "[*********************100%%**********************]  1 of 1 completed"
     ]
    },
    {
     "name": "stdout",
     "output_type": "stream",
     "text": [
      "             Adj Close        RSI\n",
      "Date                             \n",
      "2023-11-20  235.600006        NaN\n",
      "2023-11-21  241.199997        NaN\n",
      "2023-11-22  234.210007        NaN\n",
      "2023-11-24  235.449997        NaN\n",
      "2023-11-27  236.080002        NaN\n",
      "...                ...        ...\n",
      "2024-05-09  171.970001  63.484851\n",
      "2024-05-10  168.470001  64.532456\n",
      "2024-05-13  171.889999  64.838047\n",
      "2024-05-14  177.550003  59.649563\n",
      "2024-05-15  173.990005  52.526199\n",
      "\n",
      "[122 rows x 2 columns]\n"
     ]
    },
    {
     "name": "stderr",
     "output_type": "stream",
     "text": [
      "\n"
     ]
    }
   ],
   "source": [
    "def main():\n",
    "    # Replace 'TICKER' with the symbol of the stock you want to analyze\n",
    "    ticker = 'TSLA'\n",
    "    # Replace 'START_DATE' and 'END_DATE' with the date range you want to analyze\n",
    "    # Define start and end dates\n",
    "    end_date = datetime.today().strftime('%Y-%m-%d')\n",
    "    start_date = (datetime.today() - timedelta(days=180)).strftime('%Y-%m-%d')\n",
    "    \n",
    "    # Fetch data from yfinance\n",
    "    data = yf.download(ticker, start=start_date, end=end_date)\n",
    "    \n",
    "    # Compute RSI\n",
    "    data['RSI'] = compute_rsi(data)\n",
    "    \n",
    "    print(data[['Adj Close', 'RSI']])\n",
    "\n",
    "    return data\n",
    "    \n",
    "if __name__ == \"__main__\":\n",
    "    data = main()\n"
   ]
  },
  {
   "cell_type": "code",
   "execution_count": 24,
   "metadata": {},
   "outputs": [
    {
     "data": {
      "text/html": [
       "<div>\n",
       "<style scoped>\n",
       "    .dataframe tbody tr th:only-of-type {\n",
       "        vertical-align: middle;\n",
       "    }\n",
       "\n",
       "    .dataframe tbody tr th {\n",
       "        vertical-align: top;\n",
       "    }\n",
       "\n",
       "    .dataframe thead th {\n",
       "        text-align: right;\n",
       "    }\n",
       "</style>\n",
       "<table border=\"1\" class=\"dataframe\">\n",
       "  <thead>\n",
       "    <tr style=\"text-align: right;\">\n",
       "      <th></th>\n",
       "      <th>Open</th>\n",
       "      <th>High</th>\n",
       "      <th>Low</th>\n",
       "      <th>Close</th>\n",
       "      <th>Adj Close</th>\n",
       "      <th>Volume</th>\n",
       "      <th>RSI</th>\n",
       "    </tr>\n",
       "    <tr>\n",
       "      <th>Date</th>\n",
       "      <th></th>\n",
       "      <th></th>\n",
       "      <th></th>\n",
       "      <th></th>\n",
       "      <th></th>\n",
       "      <th></th>\n",
       "      <th></th>\n",
       "    </tr>\n",
       "  </thead>\n",
       "  <tbody>\n",
       "    <tr>\n",
       "      <th>2023-11-20</th>\n",
       "      <td>234.039993</td>\n",
       "      <td>237.100006</td>\n",
       "      <td>231.020004</td>\n",
       "      <td>235.600006</td>\n",
       "      <td>235.600006</td>\n",
       "      <td>116320100</td>\n",
       "      <td>NaN</td>\n",
       "    </tr>\n",
       "    <tr>\n",
       "      <th>2023-11-21</th>\n",
       "      <td>235.039993</td>\n",
       "      <td>243.619995</td>\n",
       "      <td>233.339996</td>\n",
       "      <td>241.199997</td>\n",
       "      <td>241.199997</td>\n",
       "      <td>122288000</td>\n",
       "      <td>NaN</td>\n",
       "    </tr>\n",
       "    <tr>\n",
       "      <th>2023-11-22</th>\n",
       "      <td>242.039993</td>\n",
       "      <td>244.009995</td>\n",
       "      <td>231.399994</td>\n",
       "      <td>234.210007</td>\n",
       "      <td>234.210007</td>\n",
       "      <td>117950600</td>\n",
       "      <td>NaN</td>\n",
       "    </tr>\n",
       "    <tr>\n",
       "      <th>2023-11-24</th>\n",
       "      <td>233.750000</td>\n",
       "      <td>238.750000</td>\n",
       "      <td>232.330002</td>\n",
       "      <td>235.449997</td>\n",
       "      <td>235.449997</td>\n",
       "      <td>65125200</td>\n",
       "      <td>NaN</td>\n",
       "    </tr>\n",
       "    <tr>\n",
       "      <th>2023-11-27</th>\n",
       "      <td>236.889999</td>\n",
       "      <td>238.330002</td>\n",
       "      <td>232.100006</td>\n",
       "      <td>236.080002</td>\n",
       "      <td>236.080002</td>\n",
       "      <td>112031800</td>\n",
       "      <td>NaN</td>\n",
       "    </tr>\n",
       "    <tr>\n",
       "      <th>...</th>\n",
       "      <td>...</td>\n",
       "      <td>...</td>\n",
       "      <td>...</td>\n",
       "      <td>...</td>\n",
       "      <td>...</td>\n",
       "      <td>...</td>\n",
       "      <td>...</td>\n",
       "    </tr>\n",
       "    <tr>\n",
       "      <th>2024-05-09</th>\n",
       "      <td>175.009995</td>\n",
       "      <td>175.619995</td>\n",
       "      <td>171.369995</td>\n",
       "      <td>171.970001</td>\n",
       "      <td>171.970001</td>\n",
       "      <td>65950300</td>\n",
       "      <td>63.484851</td>\n",
       "    </tr>\n",
       "    <tr>\n",
       "      <th>2024-05-10</th>\n",
       "      <td>173.050003</td>\n",
       "      <td>173.059998</td>\n",
       "      <td>167.750000</td>\n",
       "      <td>168.470001</td>\n",
       "      <td>168.470001</td>\n",
       "      <td>72627200</td>\n",
       "      <td>64.532456</td>\n",
       "    </tr>\n",
       "    <tr>\n",
       "      <th>2024-05-13</th>\n",
       "      <td>170.000000</td>\n",
       "      <td>175.399994</td>\n",
       "      <td>169.000000</td>\n",
       "      <td>171.889999</td>\n",
       "      <td>171.889999</td>\n",
       "      <td>67018900</td>\n",
       "      <td>64.838047</td>\n",
       "    </tr>\n",
       "    <tr>\n",
       "      <th>2024-05-14</th>\n",
       "      <td>174.500000</td>\n",
       "      <td>179.490005</td>\n",
       "      <td>174.070007</td>\n",
       "      <td>177.550003</td>\n",
       "      <td>177.550003</td>\n",
       "      <td>86407400</td>\n",
       "      <td>59.649563</td>\n",
       "    </tr>\n",
       "    <tr>\n",
       "      <th>2024-05-15</th>\n",
       "      <td>179.899994</td>\n",
       "      <td>180.000000</td>\n",
       "      <td>173.110001</td>\n",
       "      <td>173.990005</td>\n",
       "      <td>173.990005</td>\n",
       "      <td>79466700</td>\n",
       "      <td>52.526199</td>\n",
       "    </tr>\n",
       "  </tbody>\n",
       "</table>\n",
       "<p>122 rows × 7 columns</p>\n",
       "</div>"
      ],
      "text/plain": [
       "                  Open        High         Low       Close   Adj Close  \\\n",
       "Date                                                                     \n",
       "2023-11-20  234.039993  237.100006  231.020004  235.600006  235.600006   \n",
       "2023-11-21  235.039993  243.619995  233.339996  241.199997  241.199997   \n",
       "2023-11-22  242.039993  244.009995  231.399994  234.210007  234.210007   \n",
       "2023-11-24  233.750000  238.750000  232.330002  235.449997  235.449997   \n",
       "2023-11-27  236.889999  238.330002  232.100006  236.080002  236.080002   \n",
       "...                ...         ...         ...         ...         ...   \n",
       "2024-05-09  175.009995  175.619995  171.369995  171.970001  171.970001   \n",
       "2024-05-10  173.050003  173.059998  167.750000  168.470001  168.470001   \n",
       "2024-05-13  170.000000  175.399994  169.000000  171.889999  171.889999   \n",
       "2024-05-14  174.500000  179.490005  174.070007  177.550003  177.550003   \n",
       "2024-05-15  179.899994  180.000000  173.110001  173.990005  173.990005   \n",
       "\n",
       "               Volume        RSI  \n",
       "Date                              \n",
       "2023-11-20  116320100        NaN  \n",
       "2023-11-21  122288000        NaN  \n",
       "2023-11-22  117950600        NaN  \n",
       "2023-11-24   65125200        NaN  \n",
       "2023-11-27  112031800        NaN  \n",
       "...               ...        ...  \n",
       "2024-05-09   65950300  63.484851  \n",
       "2024-05-10   72627200  64.532456  \n",
       "2024-05-13   67018900  64.838047  \n",
       "2024-05-14   86407400  59.649563  \n",
       "2024-05-15   79466700  52.526199  \n",
       "\n",
       "[122 rows x 7 columns]"
      ]
     },
     "execution_count": 24,
     "metadata": {},
     "output_type": "execute_result"
    }
   ],
   "source": [
    "data"
   ]
  },
  {
   "cell_type": "code",
   "execution_count": 25,
   "metadata": {},
   "outputs": [
    {
     "ename": "ValueError",
     "evalue": "Mime type rendering requires nbformat>=4.2.0 but it is not installed",
     "output_type": "error",
     "traceback": [
      "\u001b[0;31m---------------------------------------------------------------------------\u001b[0m",
      "\u001b[0;31mValueError\u001b[0m                                Traceback (most recent call last)",
      "File \u001b[0;32m~/Code/stock-market/.venv/lib/python3.11/site-packages/IPython/core/formatters.py:925\u001b[0m, in \u001b[0;36mIPythonDisplayFormatter.__call__\u001b[0;34m(self, obj)\u001b[0m\n\u001b[1;32m    923\u001b[0m method \u001b[38;5;241m=\u001b[39m get_real_method(obj, \u001b[38;5;28mself\u001b[39m\u001b[38;5;241m.\u001b[39mprint_method)\n\u001b[1;32m    924\u001b[0m \u001b[38;5;28;01mif\u001b[39;00m method \u001b[38;5;129;01mis\u001b[39;00m \u001b[38;5;129;01mnot\u001b[39;00m \u001b[38;5;28;01mNone\u001b[39;00m:\n\u001b[0;32m--> 925\u001b[0m     \u001b[43mmethod\u001b[49m\u001b[43m(\u001b[49m\u001b[43m)\u001b[49m\n\u001b[1;32m    926\u001b[0m     \u001b[38;5;28;01mreturn\u001b[39;00m \u001b[38;5;28;01mTrue\u001b[39;00m\n",
      "File \u001b[0;32m~/Code/stock-market/.venv/lib/python3.11/site-packages/plotly/basedatatypes.py:832\u001b[0m, in \u001b[0;36mBaseFigure._ipython_display_\u001b[0;34m(self)\u001b[0m\n\u001b[1;32m    829\u001b[0m \u001b[38;5;28;01mimport\u001b[39;00m \u001b[38;5;21;01mplotly\u001b[39;00m\u001b[38;5;21;01m.\u001b[39;00m\u001b[38;5;21;01mio\u001b[39;00m \u001b[38;5;28;01mas\u001b[39;00m \u001b[38;5;21;01mpio\u001b[39;00m\n\u001b[1;32m    831\u001b[0m \u001b[38;5;28;01mif\u001b[39;00m pio\u001b[38;5;241m.\u001b[39mrenderers\u001b[38;5;241m.\u001b[39mrender_on_display \u001b[38;5;129;01mand\u001b[39;00m pio\u001b[38;5;241m.\u001b[39mrenderers\u001b[38;5;241m.\u001b[39mdefault:\n\u001b[0;32m--> 832\u001b[0m     \u001b[43mpio\u001b[49m\u001b[38;5;241;43m.\u001b[39;49m\u001b[43mshow\u001b[49m\u001b[43m(\u001b[49m\u001b[38;5;28;43mself\u001b[39;49m\u001b[43m)\u001b[49m\n\u001b[1;32m    833\u001b[0m \u001b[38;5;28;01melse\u001b[39;00m:\n\u001b[1;32m    834\u001b[0m     \u001b[38;5;28mprint\u001b[39m(\u001b[38;5;28mrepr\u001b[39m(\u001b[38;5;28mself\u001b[39m))\n",
      "File \u001b[0;32m~/Code/stock-market/.venv/lib/python3.11/site-packages/plotly/io/_renderers.py:394\u001b[0m, in \u001b[0;36mshow\u001b[0;34m(fig, renderer, validate, **kwargs)\u001b[0m\n\u001b[1;32m    389\u001b[0m         \u001b[38;5;28;01mraise\u001b[39;00m \u001b[38;5;167;01mValueError\u001b[39;00m(\n\u001b[1;32m    390\u001b[0m             \u001b[38;5;124m\"\u001b[39m\u001b[38;5;124mMime type rendering requires ipython but it is not installed\u001b[39m\u001b[38;5;124m\"\u001b[39m\n\u001b[1;32m    391\u001b[0m         )\n\u001b[1;32m    393\u001b[0m     \u001b[38;5;28;01mif\u001b[39;00m \u001b[38;5;129;01mnot\u001b[39;00m nbformat \u001b[38;5;129;01mor\u001b[39;00m Version(nbformat\u001b[38;5;241m.\u001b[39m__version__) \u001b[38;5;241m<\u001b[39m Version(\u001b[38;5;124m\"\u001b[39m\u001b[38;5;124m4.2.0\u001b[39m\u001b[38;5;124m\"\u001b[39m):\n\u001b[0;32m--> 394\u001b[0m         \u001b[38;5;28;01mraise\u001b[39;00m \u001b[38;5;167;01mValueError\u001b[39;00m(\n\u001b[1;32m    395\u001b[0m             \u001b[38;5;124m\"\u001b[39m\u001b[38;5;124mMime type rendering requires nbformat>=4.2.0 but it is not installed\u001b[39m\u001b[38;5;124m\"\u001b[39m\n\u001b[1;32m    396\u001b[0m         )\n\u001b[1;32m    398\u001b[0m     ipython_display\u001b[38;5;241m.\u001b[39mdisplay(bundle, raw\u001b[38;5;241m=\u001b[39m\u001b[38;5;28;01mTrue\u001b[39;00m)\n\u001b[1;32m    400\u001b[0m \u001b[38;5;66;03m# external renderers\u001b[39;00m\n",
      "\u001b[0;31mValueError\u001b[0m: Mime type rendering requires nbformat>=4.2.0 but it is not installed"
     ]
    },
    {
     "data": {
      "application/vnd.plotly.v1+json": {
       "config": {
        "plotlyServerURL": "https://plot.ly"
       },
       "data": [
        {
         "hovertemplate": "Date=%{x}<br>RSI=%{y}<extra></extra>",
         "legendgroup": "",
         "line": {
          "color": "#636efa",
          "dash": "solid"
         },
         "marker": {
          "symbol": "circle"
         },
         "mode": "lines",
         "name": "",
         "orientation": "v",
         "showlegend": false,
         "type": "scatter",
         "x": [
          "2023-11-20T00:00:00",
          "2023-11-21T00:00:00",
          "2023-11-22T00:00:00",
          "2023-11-24T00:00:00",
          "2023-11-27T00:00:00",
          "2023-11-28T00:00:00",
          "2023-11-29T00:00:00",
          "2023-11-30T00:00:00",
          "2023-12-01T00:00:00",
          "2023-12-04T00:00:00",
          "2023-12-05T00:00:00",
          "2023-12-06T00:00:00",
          "2023-12-07T00:00:00",
          "2023-12-08T00:00:00",
          "2023-12-11T00:00:00",
          "2023-12-12T00:00:00",
          "2023-12-13T00:00:00",
          "2023-12-14T00:00:00",
          "2023-12-15T00:00:00",
          "2023-12-18T00:00:00",
          "2023-12-19T00:00:00",
          "2023-12-20T00:00:00",
          "2023-12-21T00:00:00",
          "2023-12-22T00:00:00",
          "2023-12-26T00:00:00",
          "2023-12-27T00:00:00",
          "2023-12-28T00:00:00",
          "2023-12-29T00:00:00",
          "2024-01-02T00:00:00",
          "2024-01-03T00:00:00",
          "2024-01-04T00:00:00",
          "2024-01-05T00:00:00",
          "2024-01-08T00:00:00",
          "2024-01-09T00:00:00",
          "2024-01-10T00:00:00",
          "2024-01-11T00:00:00",
          "2024-01-12T00:00:00",
          "2024-01-16T00:00:00",
          "2024-01-17T00:00:00",
          "2024-01-18T00:00:00",
          "2024-01-19T00:00:00",
          "2024-01-22T00:00:00",
          "2024-01-23T00:00:00",
          "2024-01-24T00:00:00",
          "2024-01-25T00:00:00",
          "2024-01-26T00:00:00",
          "2024-01-29T00:00:00",
          "2024-01-30T00:00:00",
          "2024-01-31T00:00:00",
          "2024-02-01T00:00:00",
          "2024-02-02T00:00:00",
          "2024-02-05T00:00:00",
          "2024-02-06T00:00:00",
          "2024-02-07T00:00:00",
          "2024-02-08T00:00:00",
          "2024-02-09T00:00:00",
          "2024-02-12T00:00:00",
          "2024-02-13T00:00:00",
          "2024-02-14T00:00:00",
          "2024-02-15T00:00:00",
          "2024-02-16T00:00:00",
          "2024-02-20T00:00:00",
          "2024-02-21T00:00:00",
          "2024-02-22T00:00:00",
          "2024-02-23T00:00:00",
          "2024-02-26T00:00:00",
          "2024-02-27T00:00:00",
          "2024-02-28T00:00:00",
          "2024-02-29T00:00:00",
          "2024-03-01T00:00:00",
          "2024-03-04T00:00:00",
          "2024-03-05T00:00:00",
          "2024-03-06T00:00:00",
          "2024-03-07T00:00:00",
          "2024-03-08T00:00:00",
          "2024-03-11T00:00:00",
          "2024-03-12T00:00:00",
          "2024-03-13T00:00:00",
          "2024-03-14T00:00:00",
          "2024-03-15T00:00:00",
          "2024-03-18T00:00:00",
          "2024-03-19T00:00:00",
          "2024-03-20T00:00:00",
          "2024-03-21T00:00:00",
          "2024-03-22T00:00:00",
          "2024-03-25T00:00:00",
          "2024-03-26T00:00:00",
          "2024-03-27T00:00:00",
          "2024-03-28T00:00:00",
          "2024-04-01T00:00:00",
          "2024-04-02T00:00:00",
          "2024-04-03T00:00:00",
          "2024-04-04T00:00:00",
          "2024-04-05T00:00:00",
          "2024-04-08T00:00:00",
          "2024-04-09T00:00:00",
          "2024-04-10T00:00:00",
          "2024-04-11T00:00:00",
          "2024-04-12T00:00:00",
          "2024-04-15T00:00:00",
          "2024-04-16T00:00:00",
          "2024-04-17T00:00:00",
          "2024-04-18T00:00:00",
          "2024-04-19T00:00:00",
          "2024-04-22T00:00:00",
          "2024-04-23T00:00:00",
          "2024-04-24T00:00:00",
          "2024-04-25T00:00:00",
          "2024-04-26T00:00:00",
          "2024-04-29T00:00:00",
          "2024-04-30T00:00:00",
          "2024-05-01T00:00:00",
          "2024-05-02T00:00:00",
          "2024-05-03T00:00:00",
          "2024-05-06T00:00:00",
          "2024-05-07T00:00:00",
          "2024-05-08T00:00:00",
          "2024-05-09T00:00:00",
          "2024-05-10T00:00:00",
          "2024-05-13T00:00:00",
          "2024-05-14T00:00:00",
          "2024-05-15T00:00:00"
         ],
         "xaxis": "x",
         "y": [
          null,
          null,
          null,
          null,
          null,
          null,
          null,
          null,
          null,
          null,
          null,
          null,
          null,
          59.25842234299724,
          54.25926210822007,
          45.418757674443434,
          56.1920867050604,
          65.13388001276599,
          66.32308655330668,
          56.071591169537456,
          64.00428553084416,
          56.69574866760558,
          63.31803304540572,
          64.73756424787229,
          65.29842975659531,
          67.6137260365256,
          57.79123937451625,
          53.261173347621195,
          56.467949283542254,
          50.96852429459428,
          49.06310278023926,
          38.93242295383806,
          39.436617978691054,
          36.99878791811611,
          31.14063648828322,
          32.933517854168755,
          19.989887484115613,
          22.05858026622262,
          15.013653077903811,
          6.919326299928642,
          8.654418586611285,
          8.889339268222813,
          9.538507869565265,
          11.609810933227834,
          7.171610885553818,
          8.109340084222694,
          14.353569505609357,
          16.447456801187826,
          15.653057634013251,
          19.439130044718766,
          22.029612195791955,
          18.26497996489057,
          24.99589649082931,
          29.64823760977319,
          31.562647316819934,
          37.715765141189934,
          34.34193555283592,
          32.96609488611256,
          56.15633794155991,
          64.21486992579187,
          58.45836501514861,
          51.84366812340298,
          56.73146796836851,
          57.54900230511909,
          53.32133168828744,
          64.86223072075876,
          62.61423369389751,
          62.50431479020355,
          61.00000653948103,
          58.59715136404935,
          50.008084864664305,
          47.480798763920426,
          40.581940731364014,
          30.17460463275522,
          28.70738581980686,
          35.20267388891557,
          33.82158592833039,
          26.197367644240032,
          25.52731655618129,
          16.731678262589412,
          29.662750842524503,
          25.969972745682156,
          30.748899507551187,
          28.754639004008638,
          34.99220259391416,
          42.21240916746008,
          51.067855608203004,
          51.1140556882344,
          50.4190694727975,
          47.54003187182029,
          40.93704043313777,
          48.97922136548063,
          58.67419142697532,
          51.21415632558702,
          49.220821550446225,
          55.14433445543582,
          46.4428971646554,
          51.62349284073253,
          50.195105607100786,
          41.309429259798144,
          33.80593563621993,
          30.644657973669027,
          29.941059824786777,
          28.905209307193743,
          30.547652048620392,
          31.501715719785295,
          44.300589839604605,
          53.27461988366077,
          46.84938802906037,
          58.915772107371524,
          55.65038369246765,
          52.63209269546756,
          54.531657284398186,
          60.89311914017799,
          65.41764200188817,
          61.77338153714984,
          63.39566467525632,
          63.48485061163153,
          64.53245565339947,
          64.8380469612639,
          59.6495633865354,
          52.526199047403026
         ],
         "yaxis": "y"
        }
       ],
       "layout": {
        "legend": {
         "tracegroupgap": 0
        },
        "margin": {
         "t": 60
        },
        "template": {
         "data": {
          "bar": [
           {
            "error_x": {
             "color": "#2a3f5f"
            },
            "error_y": {
             "color": "#2a3f5f"
            },
            "marker": {
             "line": {
              "color": "#E5ECF6",
              "width": 0.5
             },
             "pattern": {
              "fillmode": "overlay",
              "size": 10,
              "solidity": 0.2
             }
            },
            "type": "bar"
           }
          ],
          "barpolar": [
           {
            "marker": {
             "line": {
              "color": "#E5ECF6",
              "width": 0.5
             },
             "pattern": {
              "fillmode": "overlay",
              "size": 10,
              "solidity": 0.2
             }
            },
            "type": "barpolar"
           }
          ],
          "carpet": [
           {
            "aaxis": {
             "endlinecolor": "#2a3f5f",
             "gridcolor": "white",
             "linecolor": "white",
             "minorgridcolor": "white",
             "startlinecolor": "#2a3f5f"
            },
            "baxis": {
             "endlinecolor": "#2a3f5f",
             "gridcolor": "white",
             "linecolor": "white",
             "minorgridcolor": "white",
             "startlinecolor": "#2a3f5f"
            },
            "type": "carpet"
           }
          ],
          "choropleth": [
           {
            "colorbar": {
             "outlinewidth": 0,
             "ticks": ""
            },
            "type": "choropleth"
           }
          ],
          "contour": [
           {
            "colorbar": {
             "outlinewidth": 0,
             "ticks": ""
            },
            "colorscale": [
             [
              0,
              "#0d0887"
             ],
             [
              0.1111111111111111,
              "#46039f"
             ],
             [
              0.2222222222222222,
              "#7201a8"
             ],
             [
              0.3333333333333333,
              "#9c179e"
             ],
             [
              0.4444444444444444,
              "#bd3786"
             ],
             [
              0.5555555555555556,
              "#d8576b"
             ],
             [
              0.6666666666666666,
              "#ed7953"
             ],
             [
              0.7777777777777778,
              "#fb9f3a"
             ],
             [
              0.8888888888888888,
              "#fdca26"
             ],
             [
              1,
              "#f0f921"
             ]
            ],
            "type": "contour"
           }
          ],
          "contourcarpet": [
           {
            "colorbar": {
             "outlinewidth": 0,
             "ticks": ""
            },
            "type": "contourcarpet"
           }
          ],
          "heatmap": [
           {
            "colorbar": {
             "outlinewidth": 0,
             "ticks": ""
            },
            "colorscale": [
             [
              0,
              "#0d0887"
             ],
             [
              0.1111111111111111,
              "#46039f"
             ],
             [
              0.2222222222222222,
              "#7201a8"
             ],
             [
              0.3333333333333333,
              "#9c179e"
             ],
             [
              0.4444444444444444,
              "#bd3786"
             ],
             [
              0.5555555555555556,
              "#d8576b"
             ],
             [
              0.6666666666666666,
              "#ed7953"
             ],
             [
              0.7777777777777778,
              "#fb9f3a"
             ],
             [
              0.8888888888888888,
              "#fdca26"
             ],
             [
              1,
              "#f0f921"
             ]
            ],
            "type": "heatmap"
           }
          ],
          "heatmapgl": [
           {
            "colorbar": {
             "outlinewidth": 0,
             "ticks": ""
            },
            "colorscale": [
             [
              0,
              "#0d0887"
             ],
             [
              0.1111111111111111,
              "#46039f"
             ],
             [
              0.2222222222222222,
              "#7201a8"
             ],
             [
              0.3333333333333333,
              "#9c179e"
             ],
             [
              0.4444444444444444,
              "#bd3786"
             ],
             [
              0.5555555555555556,
              "#d8576b"
             ],
             [
              0.6666666666666666,
              "#ed7953"
             ],
             [
              0.7777777777777778,
              "#fb9f3a"
             ],
             [
              0.8888888888888888,
              "#fdca26"
             ],
             [
              1,
              "#f0f921"
             ]
            ],
            "type": "heatmapgl"
           }
          ],
          "histogram": [
           {
            "marker": {
             "pattern": {
              "fillmode": "overlay",
              "size": 10,
              "solidity": 0.2
             }
            },
            "type": "histogram"
           }
          ],
          "histogram2d": [
           {
            "colorbar": {
             "outlinewidth": 0,
             "ticks": ""
            },
            "colorscale": [
             [
              0,
              "#0d0887"
             ],
             [
              0.1111111111111111,
              "#46039f"
             ],
             [
              0.2222222222222222,
              "#7201a8"
             ],
             [
              0.3333333333333333,
              "#9c179e"
             ],
             [
              0.4444444444444444,
              "#bd3786"
             ],
             [
              0.5555555555555556,
              "#d8576b"
             ],
             [
              0.6666666666666666,
              "#ed7953"
             ],
             [
              0.7777777777777778,
              "#fb9f3a"
             ],
             [
              0.8888888888888888,
              "#fdca26"
             ],
             [
              1,
              "#f0f921"
             ]
            ],
            "type": "histogram2d"
           }
          ],
          "histogram2dcontour": [
           {
            "colorbar": {
             "outlinewidth": 0,
             "ticks": ""
            },
            "colorscale": [
             [
              0,
              "#0d0887"
             ],
             [
              0.1111111111111111,
              "#46039f"
             ],
             [
              0.2222222222222222,
              "#7201a8"
             ],
             [
              0.3333333333333333,
              "#9c179e"
             ],
             [
              0.4444444444444444,
              "#bd3786"
             ],
             [
              0.5555555555555556,
              "#d8576b"
             ],
             [
              0.6666666666666666,
              "#ed7953"
             ],
             [
              0.7777777777777778,
              "#fb9f3a"
             ],
             [
              0.8888888888888888,
              "#fdca26"
             ],
             [
              1,
              "#f0f921"
             ]
            ],
            "type": "histogram2dcontour"
           }
          ],
          "mesh3d": [
           {
            "colorbar": {
             "outlinewidth": 0,
             "ticks": ""
            },
            "type": "mesh3d"
           }
          ],
          "parcoords": [
           {
            "line": {
             "colorbar": {
              "outlinewidth": 0,
              "ticks": ""
             }
            },
            "type": "parcoords"
           }
          ],
          "pie": [
           {
            "automargin": true,
            "type": "pie"
           }
          ],
          "scatter": [
           {
            "fillpattern": {
             "fillmode": "overlay",
             "size": 10,
             "solidity": 0.2
            },
            "type": "scatter"
           }
          ],
          "scatter3d": [
           {
            "line": {
             "colorbar": {
              "outlinewidth": 0,
              "ticks": ""
             }
            },
            "marker": {
             "colorbar": {
              "outlinewidth": 0,
              "ticks": ""
             }
            },
            "type": "scatter3d"
           }
          ],
          "scattercarpet": [
           {
            "marker": {
             "colorbar": {
              "outlinewidth": 0,
              "ticks": ""
             }
            },
            "type": "scattercarpet"
           }
          ],
          "scattergeo": [
           {
            "marker": {
             "colorbar": {
              "outlinewidth": 0,
              "ticks": ""
             }
            },
            "type": "scattergeo"
           }
          ],
          "scattergl": [
           {
            "marker": {
             "colorbar": {
              "outlinewidth": 0,
              "ticks": ""
             }
            },
            "type": "scattergl"
           }
          ],
          "scattermapbox": [
           {
            "marker": {
             "colorbar": {
              "outlinewidth": 0,
              "ticks": ""
             }
            },
            "type": "scattermapbox"
           }
          ],
          "scatterpolar": [
           {
            "marker": {
             "colorbar": {
              "outlinewidth": 0,
              "ticks": ""
             }
            },
            "type": "scatterpolar"
           }
          ],
          "scatterpolargl": [
           {
            "marker": {
             "colorbar": {
              "outlinewidth": 0,
              "ticks": ""
             }
            },
            "type": "scatterpolargl"
           }
          ],
          "scatterternary": [
           {
            "marker": {
             "colorbar": {
              "outlinewidth": 0,
              "ticks": ""
             }
            },
            "type": "scatterternary"
           }
          ],
          "surface": [
           {
            "colorbar": {
             "outlinewidth": 0,
             "ticks": ""
            },
            "colorscale": [
             [
              0,
              "#0d0887"
             ],
             [
              0.1111111111111111,
              "#46039f"
             ],
             [
              0.2222222222222222,
              "#7201a8"
             ],
             [
              0.3333333333333333,
              "#9c179e"
             ],
             [
              0.4444444444444444,
              "#bd3786"
             ],
             [
              0.5555555555555556,
              "#d8576b"
             ],
             [
              0.6666666666666666,
              "#ed7953"
             ],
             [
              0.7777777777777778,
              "#fb9f3a"
             ],
             [
              0.8888888888888888,
              "#fdca26"
             ],
             [
              1,
              "#f0f921"
             ]
            ],
            "type": "surface"
           }
          ],
          "table": [
           {
            "cells": {
             "fill": {
              "color": "#EBF0F8"
             },
             "line": {
              "color": "white"
             }
            },
            "header": {
             "fill": {
              "color": "#C8D4E3"
             },
             "line": {
              "color": "white"
             }
            },
            "type": "table"
           }
          ]
         },
         "layout": {
          "annotationdefaults": {
           "arrowcolor": "#2a3f5f",
           "arrowhead": 0,
           "arrowwidth": 1
          },
          "autotypenumbers": "strict",
          "coloraxis": {
           "colorbar": {
            "outlinewidth": 0,
            "ticks": ""
           }
          },
          "colorscale": {
           "diverging": [
            [
             0,
             "#8e0152"
            ],
            [
             0.1,
             "#c51b7d"
            ],
            [
             0.2,
             "#de77ae"
            ],
            [
             0.3,
             "#f1b6da"
            ],
            [
             0.4,
             "#fde0ef"
            ],
            [
             0.5,
             "#f7f7f7"
            ],
            [
             0.6,
             "#e6f5d0"
            ],
            [
             0.7,
             "#b8e186"
            ],
            [
             0.8,
             "#7fbc41"
            ],
            [
             0.9,
             "#4d9221"
            ],
            [
             1,
             "#276419"
            ]
           ],
           "sequential": [
            [
             0,
             "#0d0887"
            ],
            [
             0.1111111111111111,
             "#46039f"
            ],
            [
             0.2222222222222222,
             "#7201a8"
            ],
            [
             0.3333333333333333,
             "#9c179e"
            ],
            [
             0.4444444444444444,
             "#bd3786"
            ],
            [
             0.5555555555555556,
             "#d8576b"
            ],
            [
             0.6666666666666666,
             "#ed7953"
            ],
            [
             0.7777777777777778,
             "#fb9f3a"
            ],
            [
             0.8888888888888888,
             "#fdca26"
            ],
            [
             1,
             "#f0f921"
            ]
           ],
           "sequentialminus": [
            [
             0,
             "#0d0887"
            ],
            [
             0.1111111111111111,
             "#46039f"
            ],
            [
             0.2222222222222222,
             "#7201a8"
            ],
            [
             0.3333333333333333,
             "#9c179e"
            ],
            [
             0.4444444444444444,
             "#bd3786"
            ],
            [
             0.5555555555555556,
             "#d8576b"
            ],
            [
             0.6666666666666666,
             "#ed7953"
            ],
            [
             0.7777777777777778,
             "#fb9f3a"
            ],
            [
             0.8888888888888888,
             "#fdca26"
            ],
            [
             1,
             "#f0f921"
            ]
           ]
          },
          "colorway": [
           "#636efa",
           "#EF553B",
           "#00cc96",
           "#ab63fa",
           "#FFA15A",
           "#19d3f3",
           "#FF6692",
           "#B6E880",
           "#FF97FF",
           "#FECB52"
          ],
          "font": {
           "color": "#2a3f5f"
          },
          "geo": {
           "bgcolor": "white",
           "lakecolor": "white",
           "landcolor": "#E5ECF6",
           "showlakes": true,
           "showland": true,
           "subunitcolor": "white"
          },
          "hoverlabel": {
           "align": "left"
          },
          "hovermode": "closest",
          "mapbox": {
           "style": "light"
          },
          "paper_bgcolor": "white",
          "plot_bgcolor": "#E5ECF6",
          "polar": {
           "angularaxis": {
            "gridcolor": "white",
            "linecolor": "white",
            "ticks": ""
           },
           "bgcolor": "#E5ECF6",
           "radialaxis": {
            "gridcolor": "white",
            "linecolor": "white",
            "ticks": ""
           }
          },
          "scene": {
           "xaxis": {
            "backgroundcolor": "#E5ECF6",
            "gridcolor": "white",
            "gridwidth": 2,
            "linecolor": "white",
            "showbackground": true,
            "ticks": "",
            "zerolinecolor": "white"
           },
           "yaxis": {
            "backgroundcolor": "#E5ECF6",
            "gridcolor": "white",
            "gridwidth": 2,
            "linecolor": "white",
            "showbackground": true,
            "ticks": "",
            "zerolinecolor": "white"
           },
           "zaxis": {
            "backgroundcolor": "#E5ECF6",
            "gridcolor": "white",
            "gridwidth": 2,
            "linecolor": "white",
            "showbackground": true,
            "ticks": "",
            "zerolinecolor": "white"
           }
          },
          "shapedefaults": {
           "line": {
            "color": "#2a3f5f"
           }
          },
          "ternary": {
           "aaxis": {
            "gridcolor": "white",
            "linecolor": "white",
            "ticks": ""
           },
           "baxis": {
            "gridcolor": "white",
            "linecolor": "white",
            "ticks": ""
           },
           "bgcolor": "#E5ECF6",
           "caxis": {
            "gridcolor": "white",
            "linecolor": "white",
            "ticks": ""
           }
          },
          "title": {
           "x": 0.05
          },
          "xaxis": {
           "automargin": true,
           "gridcolor": "white",
           "linecolor": "white",
           "ticks": "",
           "title": {
            "standoff": 15
           },
           "zerolinecolor": "white",
           "zerolinewidth": 2
          },
          "yaxis": {
           "automargin": true,
           "gridcolor": "white",
           "linecolor": "white",
           "ticks": "",
           "title": {
            "standoff": 15
           },
           "zerolinecolor": "white",
           "zerolinewidth": 2
          }
         }
        },
        "xaxis": {
         "anchor": "y",
         "domain": [
          0,
          1
         ],
         "title": {
          "text": "Date"
         }
        },
        "yaxis": {
         "anchor": "x",
         "domain": [
          0,
          1
         ],
         "title": {
          "text": "RSI"
         }
        }
       }
      },
      "text/html": [
       "<div>                        <script type=\"text/javascript\">window.PlotlyConfig = {MathJaxConfig: 'local'};</script>\n",
       "        <script charset=\"utf-8\" src=\"https://cdn.plot.ly/plotly-2.32.0.min.js\"></script>                <div id=\"05b0448a-7c53-4192-bbd3-6b09e268b157\" class=\"plotly-graph-div\" style=\"height:100%; width:100%;\"></div>            <script type=\"text/javascript\">                                    window.PLOTLYENV=window.PLOTLYENV || {};                                    if (document.getElementById(\"05b0448a-7c53-4192-bbd3-6b09e268b157\")) {                    Plotly.newPlot(                        \"05b0448a-7c53-4192-bbd3-6b09e268b157\",                        [{\"hovertemplate\":\"Date=%{x}\\u003cbr\\u003eRSI=%{y}\\u003cextra\\u003e\\u003c\\u002fextra\\u003e\",\"legendgroup\":\"\",\"line\":{\"color\":\"#636efa\",\"dash\":\"solid\"},\"marker\":{\"symbol\":\"circle\"},\"mode\":\"lines\",\"name\":\"\",\"orientation\":\"v\",\"showlegend\":false,\"x\":[\"2023-11-20T00:00:00\",\"2023-11-21T00:00:00\",\"2023-11-22T00:00:00\",\"2023-11-24T00:00:00\",\"2023-11-27T00:00:00\",\"2023-11-28T00:00:00\",\"2023-11-29T00:00:00\",\"2023-11-30T00:00:00\",\"2023-12-01T00:00:00\",\"2023-12-04T00:00:00\",\"2023-12-05T00:00:00\",\"2023-12-06T00:00:00\",\"2023-12-07T00:00:00\",\"2023-12-08T00:00:00\",\"2023-12-11T00:00:00\",\"2023-12-12T00:00:00\",\"2023-12-13T00:00:00\",\"2023-12-14T00:00:00\",\"2023-12-15T00:00:00\",\"2023-12-18T00:00:00\",\"2023-12-19T00:00:00\",\"2023-12-20T00:00:00\",\"2023-12-21T00:00:00\",\"2023-12-22T00:00:00\",\"2023-12-26T00:00:00\",\"2023-12-27T00:00:00\",\"2023-12-28T00:00:00\",\"2023-12-29T00:00:00\",\"2024-01-02T00:00:00\",\"2024-01-03T00:00:00\",\"2024-01-04T00:00:00\",\"2024-01-05T00:00:00\",\"2024-01-08T00:00:00\",\"2024-01-09T00:00:00\",\"2024-01-10T00:00:00\",\"2024-01-11T00:00:00\",\"2024-01-12T00:00:00\",\"2024-01-16T00:00:00\",\"2024-01-17T00:00:00\",\"2024-01-18T00:00:00\",\"2024-01-19T00:00:00\",\"2024-01-22T00:00:00\",\"2024-01-23T00:00:00\",\"2024-01-24T00:00:00\",\"2024-01-25T00:00:00\",\"2024-01-26T00:00:00\",\"2024-01-29T00:00:00\",\"2024-01-30T00:00:00\",\"2024-01-31T00:00:00\",\"2024-02-01T00:00:00\",\"2024-02-02T00:00:00\",\"2024-02-05T00:00:00\",\"2024-02-06T00:00:00\",\"2024-02-07T00:00:00\",\"2024-02-08T00:00:00\",\"2024-02-09T00:00:00\",\"2024-02-12T00:00:00\",\"2024-02-13T00:00:00\",\"2024-02-14T00:00:00\",\"2024-02-15T00:00:00\",\"2024-02-16T00:00:00\",\"2024-02-20T00:00:00\",\"2024-02-21T00:00:00\",\"2024-02-22T00:00:00\",\"2024-02-23T00:00:00\",\"2024-02-26T00:00:00\",\"2024-02-27T00:00:00\",\"2024-02-28T00:00:00\",\"2024-02-29T00:00:00\",\"2024-03-01T00:00:00\",\"2024-03-04T00:00:00\",\"2024-03-05T00:00:00\",\"2024-03-06T00:00:00\",\"2024-03-07T00:00:00\",\"2024-03-08T00:00:00\",\"2024-03-11T00:00:00\",\"2024-03-12T00:00:00\",\"2024-03-13T00:00:00\",\"2024-03-14T00:00:00\",\"2024-03-15T00:00:00\",\"2024-03-18T00:00:00\",\"2024-03-19T00:00:00\",\"2024-03-20T00:00:00\",\"2024-03-21T00:00:00\",\"2024-03-22T00:00:00\",\"2024-03-25T00:00:00\",\"2024-03-26T00:00:00\",\"2024-03-27T00:00:00\",\"2024-03-28T00:00:00\",\"2024-04-01T00:00:00\",\"2024-04-02T00:00:00\",\"2024-04-03T00:00:00\",\"2024-04-04T00:00:00\",\"2024-04-05T00:00:00\",\"2024-04-08T00:00:00\",\"2024-04-09T00:00:00\",\"2024-04-10T00:00:00\",\"2024-04-11T00:00:00\",\"2024-04-12T00:00:00\",\"2024-04-15T00:00:00\",\"2024-04-16T00:00:00\",\"2024-04-17T00:00:00\",\"2024-04-18T00:00:00\",\"2024-04-19T00:00:00\",\"2024-04-22T00:00:00\",\"2024-04-23T00:00:00\",\"2024-04-24T00:00:00\",\"2024-04-25T00:00:00\",\"2024-04-26T00:00:00\",\"2024-04-29T00:00:00\",\"2024-04-30T00:00:00\",\"2024-05-01T00:00:00\",\"2024-05-02T00:00:00\",\"2024-05-03T00:00:00\",\"2024-05-06T00:00:00\",\"2024-05-07T00:00:00\",\"2024-05-08T00:00:00\",\"2024-05-09T00:00:00\",\"2024-05-10T00:00:00\",\"2024-05-13T00:00:00\",\"2024-05-14T00:00:00\",\"2024-05-15T00:00:00\"],\"xaxis\":\"x\",\"y\":[null,null,null,null,null,null,null,null,null,null,null,null,null,59.25842234299724,54.25926210822007,45.418757674443434,56.1920867050604,65.13388001276599,66.32308655330668,56.071591169537456,64.00428553084416,56.69574866760558,63.31803304540572,64.73756424787229,65.29842975659531,67.6137260365256,57.79123937451625,53.261173347621195,56.467949283542254,50.96852429459428,49.06310278023926,38.93242295383806,39.436617978691054,36.99878791811611,31.14063648828322,32.933517854168755,19.989887484115613,22.05858026622262,15.013653077903811,6.919326299928642,8.654418586611285,8.889339268222813,9.538507869565265,11.609810933227834,7.171610885553818,8.109340084222694,14.353569505609357,16.447456801187826,15.653057634013251,19.439130044718766,22.029612195791955,18.26497996489057,24.99589649082931,29.64823760977319,31.562647316819934,37.715765141189934,34.34193555283592,32.96609488611256,56.15633794155991,64.21486992579187,58.45836501514861,51.84366812340298,56.73146796836851,57.54900230511909,53.32133168828744,64.86223072075876,62.61423369389751,62.50431479020355,61.00000653948103,58.59715136404935,50.008084864664305,47.480798763920426,40.581940731364014,30.17460463275522,28.70738581980686,35.20267388891557,33.82158592833039,26.197367644240032,25.52731655618129,16.731678262589412,29.662750842524503,25.969972745682156,30.748899507551187,28.754639004008638,34.99220259391416,42.21240916746008,51.067855608203004,51.1140556882344,50.4190694727975,47.54003187182029,40.93704043313777,48.97922136548063,58.67419142697532,51.21415632558702,49.220821550446225,55.14433445543582,46.4428971646554,51.62349284073253,50.195105607100786,41.309429259798144,33.80593563621993,30.644657973669027,29.941059824786777,28.905209307193743,30.547652048620392,31.501715719785295,44.300589839604605,53.27461988366077,46.84938802906037,58.915772107371524,55.65038369246765,52.63209269546756,54.531657284398186,60.89311914017799,65.41764200188817,61.77338153714984,63.39566467525632,63.48485061163153,64.53245565339947,64.8380469612639,59.6495633865354,52.526199047403026],\"yaxis\":\"y\",\"type\":\"scatter\"}],                        {\"template\":{\"data\":{\"histogram2dcontour\":[{\"type\":\"histogram2dcontour\",\"colorbar\":{\"outlinewidth\":0,\"ticks\":\"\"},\"colorscale\":[[0.0,\"#0d0887\"],[0.1111111111111111,\"#46039f\"],[0.2222222222222222,\"#7201a8\"],[0.3333333333333333,\"#9c179e\"],[0.4444444444444444,\"#bd3786\"],[0.5555555555555556,\"#d8576b\"],[0.6666666666666666,\"#ed7953\"],[0.7777777777777778,\"#fb9f3a\"],[0.8888888888888888,\"#fdca26\"],[1.0,\"#f0f921\"]]}],\"choropleth\":[{\"type\":\"choropleth\",\"colorbar\":{\"outlinewidth\":0,\"ticks\":\"\"}}],\"histogram2d\":[{\"type\":\"histogram2d\",\"colorbar\":{\"outlinewidth\":0,\"ticks\":\"\"},\"colorscale\":[[0.0,\"#0d0887\"],[0.1111111111111111,\"#46039f\"],[0.2222222222222222,\"#7201a8\"],[0.3333333333333333,\"#9c179e\"],[0.4444444444444444,\"#bd3786\"],[0.5555555555555556,\"#d8576b\"],[0.6666666666666666,\"#ed7953\"],[0.7777777777777778,\"#fb9f3a\"],[0.8888888888888888,\"#fdca26\"],[1.0,\"#f0f921\"]]}],\"heatmap\":[{\"type\":\"heatmap\",\"colorbar\":{\"outlinewidth\":0,\"ticks\":\"\"},\"colorscale\":[[0.0,\"#0d0887\"],[0.1111111111111111,\"#46039f\"],[0.2222222222222222,\"#7201a8\"],[0.3333333333333333,\"#9c179e\"],[0.4444444444444444,\"#bd3786\"],[0.5555555555555556,\"#d8576b\"],[0.6666666666666666,\"#ed7953\"],[0.7777777777777778,\"#fb9f3a\"],[0.8888888888888888,\"#fdca26\"],[1.0,\"#f0f921\"]]}],\"heatmapgl\":[{\"type\":\"heatmapgl\",\"colorbar\":{\"outlinewidth\":0,\"ticks\":\"\"},\"colorscale\":[[0.0,\"#0d0887\"],[0.1111111111111111,\"#46039f\"],[0.2222222222222222,\"#7201a8\"],[0.3333333333333333,\"#9c179e\"],[0.4444444444444444,\"#bd3786\"],[0.5555555555555556,\"#d8576b\"],[0.6666666666666666,\"#ed7953\"],[0.7777777777777778,\"#fb9f3a\"],[0.8888888888888888,\"#fdca26\"],[1.0,\"#f0f921\"]]}],\"contourcarpet\":[{\"type\":\"contourcarpet\",\"colorbar\":{\"outlinewidth\":0,\"ticks\":\"\"}}],\"contour\":[{\"type\":\"contour\",\"colorbar\":{\"outlinewidth\":0,\"ticks\":\"\"},\"colorscale\":[[0.0,\"#0d0887\"],[0.1111111111111111,\"#46039f\"],[0.2222222222222222,\"#7201a8\"],[0.3333333333333333,\"#9c179e\"],[0.4444444444444444,\"#bd3786\"],[0.5555555555555556,\"#d8576b\"],[0.6666666666666666,\"#ed7953\"],[0.7777777777777778,\"#fb9f3a\"],[0.8888888888888888,\"#fdca26\"],[1.0,\"#f0f921\"]]}],\"surface\":[{\"type\":\"surface\",\"colorbar\":{\"outlinewidth\":0,\"ticks\":\"\"},\"colorscale\":[[0.0,\"#0d0887\"],[0.1111111111111111,\"#46039f\"],[0.2222222222222222,\"#7201a8\"],[0.3333333333333333,\"#9c179e\"],[0.4444444444444444,\"#bd3786\"],[0.5555555555555556,\"#d8576b\"],[0.6666666666666666,\"#ed7953\"],[0.7777777777777778,\"#fb9f3a\"],[0.8888888888888888,\"#fdca26\"],[1.0,\"#f0f921\"]]}],\"mesh3d\":[{\"type\":\"mesh3d\",\"colorbar\":{\"outlinewidth\":0,\"ticks\":\"\"}}],\"scatter\":[{\"fillpattern\":{\"fillmode\":\"overlay\",\"size\":10,\"solidity\":0.2},\"type\":\"scatter\"}],\"parcoords\":[{\"type\":\"parcoords\",\"line\":{\"colorbar\":{\"outlinewidth\":0,\"ticks\":\"\"}}}],\"scatterpolargl\":[{\"type\":\"scatterpolargl\",\"marker\":{\"colorbar\":{\"outlinewidth\":0,\"ticks\":\"\"}}}],\"bar\":[{\"error_x\":{\"color\":\"#2a3f5f\"},\"error_y\":{\"color\":\"#2a3f5f\"},\"marker\":{\"line\":{\"color\":\"#E5ECF6\",\"width\":0.5},\"pattern\":{\"fillmode\":\"overlay\",\"size\":10,\"solidity\":0.2}},\"type\":\"bar\"}],\"scattergeo\":[{\"type\":\"scattergeo\",\"marker\":{\"colorbar\":{\"outlinewidth\":0,\"ticks\":\"\"}}}],\"scatterpolar\":[{\"type\":\"scatterpolar\",\"marker\":{\"colorbar\":{\"outlinewidth\":0,\"ticks\":\"\"}}}],\"histogram\":[{\"marker\":{\"pattern\":{\"fillmode\":\"overlay\",\"size\":10,\"solidity\":0.2}},\"type\":\"histogram\"}],\"scattergl\":[{\"type\":\"scattergl\",\"marker\":{\"colorbar\":{\"outlinewidth\":0,\"ticks\":\"\"}}}],\"scatter3d\":[{\"type\":\"scatter3d\",\"line\":{\"colorbar\":{\"outlinewidth\":0,\"ticks\":\"\"}},\"marker\":{\"colorbar\":{\"outlinewidth\":0,\"ticks\":\"\"}}}],\"scattermapbox\":[{\"type\":\"scattermapbox\",\"marker\":{\"colorbar\":{\"outlinewidth\":0,\"ticks\":\"\"}}}],\"scatterternary\":[{\"type\":\"scatterternary\",\"marker\":{\"colorbar\":{\"outlinewidth\":0,\"ticks\":\"\"}}}],\"scattercarpet\":[{\"type\":\"scattercarpet\",\"marker\":{\"colorbar\":{\"outlinewidth\":0,\"ticks\":\"\"}}}],\"carpet\":[{\"aaxis\":{\"endlinecolor\":\"#2a3f5f\",\"gridcolor\":\"white\",\"linecolor\":\"white\",\"minorgridcolor\":\"white\",\"startlinecolor\":\"#2a3f5f\"},\"baxis\":{\"endlinecolor\":\"#2a3f5f\",\"gridcolor\":\"white\",\"linecolor\":\"white\",\"minorgridcolor\":\"white\",\"startlinecolor\":\"#2a3f5f\"},\"type\":\"carpet\"}],\"table\":[{\"cells\":{\"fill\":{\"color\":\"#EBF0F8\"},\"line\":{\"color\":\"white\"}},\"header\":{\"fill\":{\"color\":\"#C8D4E3\"},\"line\":{\"color\":\"white\"}},\"type\":\"table\"}],\"barpolar\":[{\"marker\":{\"line\":{\"color\":\"#E5ECF6\",\"width\":0.5},\"pattern\":{\"fillmode\":\"overlay\",\"size\":10,\"solidity\":0.2}},\"type\":\"barpolar\"}],\"pie\":[{\"automargin\":true,\"type\":\"pie\"}]},\"layout\":{\"autotypenumbers\":\"strict\",\"colorway\":[\"#636efa\",\"#EF553B\",\"#00cc96\",\"#ab63fa\",\"#FFA15A\",\"#19d3f3\",\"#FF6692\",\"#B6E880\",\"#FF97FF\",\"#FECB52\"],\"font\":{\"color\":\"#2a3f5f\"},\"hovermode\":\"closest\",\"hoverlabel\":{\"align\":\"left\"},\"paper_bgcolor\":\"white\",\"plot_bgcolor\":\"#E5ECF6\",\"polar\":{\"bgcolor\":\"#E5ECF6\",\"angularaxis\":{\"gridcolor\":\"white\",\"linecolor\":\"white\",\"ticks\":\"\"},\"radialaxis\":{\"gridcolor\":\"white\",\"linecolor\":\"white\",\"ticks\":\"\"}},\"ternary\":{\"bgcolor\":\"#E5ECF6\",\"aaxis\":{\"gridcolor\":\"white\",\"linecolor\":\"white\",\"ticks\":\"\"},\"baxis\":{\"gridcolor\":\"white\",\"linecolor\":\"white\",\"ticks\":\"\"},\"caxis\":{\"gridcolor\":\"white\",\"linecolor\":\"white\",\"ticks\":\"\"}},\"coloraxis\":{\"colorbar\":{\"outlinewidth\":0,\"ticks\":\"\"}},\"colorscale\":{\"sequential\":[[0.0,\"#0d0887\"],[0.1111111111111111,\"#46039f\"],[0.2222222222222222,\"#7201a8\"],[0.3333333333333333,\"#9c179e\"],[0.4444444444444444,\"#bd3786\"],[0.5555555555555556,\"#d8576b\"],[0.6666666666666666,\"#ed7953\"],[0.7777777777777778,\"#fb9f3a\"],[0.8888888888888888,\"#fdca26\"],[1.0,\"#f0f921\"]],\"sequentialminus\":[[0.0,\"#0d0887\"],[0.1111111111111111,\"#46039f\"],[0.2222222222222222,\"#7201a8\"],[0.3333333333333333,\"#9c179e\"],[0.4444444444444444,\"#bd3786\"],[0.5555555555555556,\"#d8576b\"],[0.6666666666666666,\"#ed7953\"],[0.7777777777777778,\"#fb9f3a\"],[0.8888888888888888,\"#fdca26\"],[1.0,\"#f0f921\"]],\"diverging\":[[0,\"#8e0152\"],[0.1,\"#c51b7d\"],[0.2,\"#de77ae\"],[0.3,\"#f1b6da\"],[0.4,\"#fde0ef\"],[0.5,\"#f7f7f7\"],[0.6,\"#e6f5d0\"],[0.7,\"#b8e186\"],[0.8,\"#7fbc41\"],[0.9,\"#4d9221\"],[1,\"#276419\"]]},\"xaxis\":{\"gridcolor\":\"white\",\"linecolor\":\"white\",\"ticks\":\"\",\"title\":{\"standoff\":15},\"zerolinecolor\":\"white\",\"automargin\":true,\"zerolinewidth\":2},\"yaxis\":{\"gridcolor\":\"white\",\"linecolor\":\"white\",\"ticks\":\"\",\"title\":{\"standoff\":15},\"zerolinecolor\":\"white\",\"automargin\":true,\"zerolinewidth\":2},\"scene\":{\"xaxis\":{\"backgroundcolor\":\"#E5ECF6\",\"gridcolor\":\"white\",\"linecolor\":\"white\",\"showbackground\":true,\"ticks\":\"\",\"zerolinecolor\":\"white\",\"gridwidth\":2},\"yaxis\":{\"backgroundcolor\":\"#E5ECF6\",\"gridcolor\":\"white\",\"linecolor\":\"white\",\"showbackground\":true,\"ticks\":\"\",\"zerolinecolor\":\"white\",\"gridwidth\":2},\"zaxis\":{\"backgroundcolor\":\"#E5ECF6\",\"gridcolor\":\"white\",\"linecolor\":\"white\",\"showbackground\":true,\"ticks\":\"\",\"zerolinecolor\":\"white\",\"gridwidth\":2}},\"shapedefaults\":{\"line\":{\"color\":\"#2a3f5f\"}},\"annotationdefaults\":{\"arrowcolor\":\"#2a3f5f\",\"arrowhead\":0,\"arrowwidth\":1},\"geo\":{\"bgcolor\":\"white\",\"landcolor\":\"#E5ECF6\",\"subunitcolor\":\"white\",\"showland\":true,\"showlakes\":true,\"lakecolor\":\"white\"},\"title\":{\"x\":0.05},\"mapbox\":{\"style\":\"light\"}}},\"xaxis\":{\"anchor\":\"y\",\"domain\":[0.0,1.0],\"title\":{\"text\":\"Date\"}},\"yaxis\":{\"anchor\":\"x\",\"domain\":[0.0,1.0],\"title\":{\"text\":\"RSI\"}},\"legend\":{\"tracegroupgap\":0},\"margin\":{\"t\":60}},                        {\"responsive\": true}                    )                };                            </script>        </div>"
      ],
      "text/plain": [
       "Figure({\n",
       "    'data': [{'hovertemplate': 'Date=%{x}<br>RSI=%{y}<extra></extra>',\n",
       "              'legendgroup': '',\n",
       "              'line': {'color': '#636efa', 'dash': 'solid'},\n",
       "              'marker': {'symbol': 'circle'},\n",
       "              'mode': 'lines',\n",
       "              'name': '',\n",
       "              'orientation': 'v',\n",
       "              'showlegend': False,\n",
       "              'type': 'scatter',\n",
       "              'x': array([datetime.datetime(2023, 11, 20, 0, 0),\n",
       "                          datetime.datetime(2023, 11, 21, 0, 0),\n",
       "                          datetime.datetime(2023, 11, 22, 0, 0),\n",
       "                          datetime.datetime(2023, 11, 24, 0, 0),\n",
       "                          datetime.datetime(2023, 11, 27, 0, 0),\n",
       "                          datetime.datetime(2023, 11, 28, 0, 0),\n",
       "                          datetime.datetime(2023, 11, 29, 0, 0),\n",
       "                          datetime.datetime(2023, 11, 30, 0, 0),\n",
       "                          datetime.datetime(2023, 12, 1, 0, 0),\n",
       "                          datetime.datetime(2023, 12, 4, 0, 0),\n",
       "                          datetime.datetime(2023, 12, 5, 0, 0),\n",
       "                          datetime.datetime(2023, 12, 6, 0, 0),\n",
       "                          datetime.datetime(2023, 12, 7, 0, 0),\n",
       "                          datetime.datetime(2023, 12, 8, 0, 0),\n",
       "                          datetime.datetime(2023, 12, 11, 0, 0),\n",
       "                          datetime.datetime(2023, 12, 12, 0, 0),\n",
       "                          datetime.datetime(2023, 12, 13, 0, 0),\n",
       "                          datetime.datetime(2023, 12, 14, 0, 0),\n",
       "                          datetime.datetime(2023, 12, 15, 0, 0),\n",
       "                          datetime.datetime(2023, 12, 18, 0, 0),\n",
       "                          datetime.datetime(2023, 12, 19, 0, 0),\n",
       "                          datetime.datetime(2023, 12, 20, 0, 0),\n",
       "                          datetime.datetime(2023, 12, 21, 0, 0),\n",
       "                          datetime.datetime(2023, 12, 22, 0, 0),\n",
       "                          datetime.datetime(2023, 12, 26, 0, 0),\n",
       "                          datetime.datetime(2023, 12, 27, 0, 0),\n",
       "                          datetime.datetime(2023, 12, 28, 0, 0),\n",
       "                          datetime.datetime(2023, 12, 29, 0, 0),\n",
       "                          datetime.datetime(2024, 1, 2, 0, 0),\n",
       "                          datetime.datetime(2024, 1, 3, 0, 0),\n",
       "                          datetime.datetime(2024, 1, 4, 0, 0),\n",
       "                          datetime.datetime(2024, 1, 5, 0, 0),\n",
       "                          datetime.datetime(2024, 1, 8, 0, 0),\n",
       "                          datetime.datetime(2024, 1, 9, 0, 0),\n",
       "                          datetime.datetime(2024, 1, 10, 0, 0),\n",
       "                          datetime.datetime(2024, 1, 11, 0, 0),\n",
       "                          datetime.datetime(2024, 1, 12, 0, 0),\n",
       "                          datetime.datetime(2024, 1, 16, 0, 0),\n",
       "                          datetime.datetime(2024, 1, 17, 0, 0),\n",
       "                          datetime.datetime(2024, 1, 18, 0, 0),\n",
       "                          datetime.datetime(2024, 1, 19, 0, 0),\n",
       "                          datetime.datetime(2024, 1, 22, 0, 0),\n",
       "                          datetime.datetime(2024, 1, 23, 0, 0),\n",
       "                          datetime.datetime(2024, 1, 24, 0, 0),\n",
       "                          datetime.datetime(2024, 1, 25, 0, 0),\n",
       "                          datetime.datetime(2024, 1, 26, 0, 0),\n",
       "                          datetime.datetime(2024, 1, 29, 0, 0),\n",
       "                          datetime.datetime(2024, 1, 30, 0, 0),\n",
       "                          datetime.datetime(2024, 1, 31, 0, 0),\n",
       "                          datetime.datetime(2024, 2, 1, 0, 0),\n",
       "                          datetime.datetime(2024, 2, 2, 0, 0),\n",
       "                          datetime.datetime(2024, 2, 5, 0, 0),\n",
       "                          datetime.datetime(2024, 2, 6, 0, 0),\n",
       "                          datetime.datetime(2024, 2, 7, 0, 0),\n",
       "                          datetime.datetime(2024, 2, 8, 0, 0),\n",
       "                          datetime.datetime(2024, 2, 9, 0, 0),\n",
       "                          datetime.datetime(2024, 2, 12, 0, 0),\n",
       "                          datetime.datetime(2024, 2, 13, 0, 0),\n",
       "                          datetime.datetime(2024, 2, 14, 0, 0),\n",
       "                          datetime.datetime(2024, 2, 15, 0, 0),\n",
       "                          datetime.datetime(2024, 2, 16, 0, 0),\n",
       "                          datetime.datetime(2024, 2, 20, 0, 0),\n",
       "                          datetime.datetime(2024, 2, 21, 0, 0),\n",
       "                          datetime.datetime(2024, 2, 22, 0, 0),\n",
       "                          datetime.datetime(2024, 2, 23, 0, 0),\n",
       "                          datetime.datetime(2024, 2, 26, 0, 0),\n",
       "                          datetime.datetime(2024, 2, 27, 0, 0),\n",
       "                          datetime.datetime(2024, 2, 28, 0, 0),\n",
       "                          datetime.datetime(2024, 2, 29, 0, 0),\n",
       "                          datetime.datetime(2024, 3, 1, 0, 0),\n",
       "                          datetime.datetime(2024, 3, 4, 0, 0),\n",
       "                          datetime.datetime(2024, 3, 5, 0, 0),\n",
       "                          datetime.datetime(2024, 3, 6, 0, 0),\n",
       "                          datetime.datetime(2024, 3, 7, 0, 0),\n",
       "                          datetime.datetime(2024, 3, 8, 0, 0),\n",
       "                          datetime.datetime(2024, 3, 11, 0, 0),\n",
       "                          datetime.datetime(2024, 3, 12, 0, 0),\n",
       "                          datetime.datetime(2024, 3, 13, 0, 0),\n",
       "                          datetime.datetime(2024, 3, 14, 0, 0),\n",
       "                          datetime.datetime(2024, 3, 15, 0, 0),\n",
       "                          datetime.datetime(2024, 3, 18, 0, 0),\n",
       "                          datetime.datetime(2024, 3, 19, 0, 0),\n",
       "                          datetime.datetime(2024, 3, 20, 0, 0),\n",
       "                          datetime.datetime(2024, 3, 21, 0, 0),\n",
       "                          datetime.datetime(2024, 3, 22, 0, 0),\n",
       "                          datetime.datetime(2024, 3, 25, 0, 0),\n",
       "                          datetime.datetime(2024, 3, 26, 0, 0),\n",
       "                          datetime.datetime(2024, 3, 27, 0, 0),\n",
       "                          datetime.datetime(2024, 3, 28, 0, 0),\n",
       "                          datetime.datetime(2024, 4, 1, 0, 0),\n",
       "                          datetime.datetime(2024, 4, 2, 0, 0),\n",
       "                          datetime.datetime(2024, 4, 3, 0, 0),\n",
       "                          datetime.datetime(2024, 4, 4, 0, 0),\n",
       "                          datetime.datetime(2024, 4, 5, 0, 0),\n",
       "                          datetime.datetime(2024, 4, 8, 0, 0),\n",
       "                          datetime.datetime(2024, 4, 9, 0, 0),\n",
       "                          datetime.datetime(2024, 4, 10, 0, 0),\n",
       "                          datetime.datetime(2024, 4, 11, 0, 0),\n",
       "                          datetime.datetime(2024, 4, 12, 0, 0),\n",
       "                          datetime.datetime(2024, 4, 15, 0, 0),\n",
       "                          datetime.datetime(2024, 4, 16, 0, 0),\n",
       "                          datetime.datetime(2024, 4, 17, 0, 0),\n",
       "                          datetime.datetime(2024, 4, 18, 0, 0),\n",
       "                          datetime.datetime(2024, 4, 19, 0, 0),\n",
       "                          datetime.datetime(2024, 4, 22, 0, 0),\n",
       "                          datetime.datetime(2024, 4, 23, 0, 0),\n",
       "                          datetime.datetime(2024, 4, 24, 0, 0),\n",
       "                          datetime.datetime(2024, 4, 25, 0, 0),\n",
       "                          datetime.datetime(2024, 4, 26, 0, 0),\n",
       "                          datetime.datetime(2024, 4, 29, 0, 0),\n",
       "                          datetime.datetime(2024, 4, 30, 0, 0),\n",
       "                          datetime.datetime(2024, 5, 1, 0, 0),\n",
       "                          datetime.datetime(2024, 5, 2, 0, 0),\n",
       "                          datetime.datetime(2024, 5, 3, 0, 0),\n",
       "                          datetime.datetime(2024, 5, 6, 0, 0),\n",
       "                          datetime.datetime(2024, 5, 7, 0, 0),\n",
       "                          datetime.datetime(2024, 5, 8, 0, 0),\n",
       "                          datetime.datetime(2024, 5, 9, 0, 0),\n",
       "                          datetime.datetime(2024, 5, 10, 0, 0),\n",
       "                          datetime.datetime(2024, 5, 13, 0, 0),\n",
       "                          datetime.datetime(2024, 5, 14, 0, 0),\n",
       "                          datetime.datetime(2024, 5, 15, 0, 0)], dtype=object),\n",
       "              'xaxis': 'x',\n",
       "              'y': array([        nan,         nan,         nan,         nan,         nan,\n",
       "                                  nan,         nan,         nan,         nan,         nan,\n",
       "                                  nan,         nan,         nan, 59.25842234, 54.25926211,\n",
       "                          45.41875767, 56.19208671, 65.13388001, 66.32308655, 56.07159117,\n",
       "                          64.00428553, 56.69574867, 63.31803305, 64.73756425, 65.29842976,\n",
       "                          67.61372604, 57.79123937, 53.26117335, 56.46794928, 50.96852429,\n",
       "                          49.06310278, 38.93242295, 39.43661798, 36.99878792, 31.14063649,\n",
       "                          32.93351785, 19.98988748, 22.05858027, 15.01365308,  6.9193263 ,\n",
       "                           8.65441859,  8.88933927,  9.53850787, 11.60981093,  7.17161089,\n",
       "                           8.10934008, 14.35356951, 16.4474568 , 15.65305763, 19.43913004,\n",
       "                          22.0296122 , 18.26497996, 24.99589649, 29.64823761, 31.56264732,\n",
       "                          37.71576514, 34.34193555, 32.96609489, 56.15633794, 64.21486993,\n",
       "                          58.45836502, 51.84366812, 56.73146797, 57.54900231, 53.32133169,\n",
       "                          64.86223072, 62.61423369, 62.50431479, 61.00000654, 58.59715136,\n",
       "                          50.00808486, 47.48079876, 40.58194073, 30.17460463, 28.70738582,\n",
       "                          35.20267389, 33.82158593, 26.19736764, 25.52731656, 16.73167826,\n",
       "                          29.66275084, 25.96997275, 30.74889951, 28.754639  , 34.99220259,\n",
       "                          42.21240917, 51.06785561, 51.11405569, 50.41906947, 47.54003187,\n",
       "                          40.93704043, 48.97922137, 58.67419143, 51.21415633, 49.22082155,\n",
       "                          55.14433446, 46.44289716, 51.62349284, 50.19510561, 41.30942926,\n",
       "                          33.80593564, 30.64465797, 29.94105982, 28.90520931, 30.54765205,\n",
       "                          31.50171572, 44.30058984, 53.27461988, 46.84938803, 58.91577211,\n",
       "                          55.65038369, 52.6320927 , 54.53165728, 60.89311914, 65.417642  ,\n",
       "                          61.77338154, 63.39566468, 63.48485061, 64.53245565, 64.83804696,\n",
       "                          59.64956339, 52.52619905]),\n",
       "              'yaxis': 'y'}],\n",
       "    'layout': {'legend': {'tracegroupgap': 0},\n",
       "               'margin': {'t': 60},\n",
       "               'template': '...',\n",
       "               'xaxis': {'anchor': 'y', 'domain': [0.0, 1.0], 'title': {'text': 'Date'}},\n",
       "               'yaxis': {'anchor': 'x', 'domain': [0.0, 1.0], 'title': {'text': 'RSI'}}}\n",
       "})"
      ]
     },
     "execution_count": 25,
     "metadata": {},
     "output_type": "execute_result"
    }
   ],
   "source": [
    "px.line(data_frame=data, x=data.index, y='RSI') "
   ]
  },
  {
   "cell_type": "code",
   "execution_count": 28,
   "metadata": {},
   "outputs": [
    {
     "data": {
      "text/html": [
       "<div>\n",
       "<style scoped>\n",
       "    .dataframe tbody tr th:only-of-type {\n",
       "        vertical-align: middle;\n",
       "    }\n",
       "\n",
       "    .dataframe tbody tr th {\n",
       "        vertical-align: top;\n",
       "    }\n",
       "\n",
       "    .dataframe thead th {\n",
       "        text-align: right;\n",
       "    }\n",
       "</style>\n",
       "<table border=\"1\" class=\"dataframe\">\n",
       "  <thead>\n",
       "    <tr style=\"text-align: right;\">\n",
       "      <th></th>\n",
       "      <th>Nasdaq Traded</th>\n",
       "      <th>Symbol</th>\n",
       "      <th>Security Name</th>\n",
       "      <th>Listing Exchange</th>\n",
       "      <th>Market Category</th>\n",
       "      <th>ETF</th>\n",
       "      <th>Round Lot Size</th>\n",
       "      <th>Test Issue</th>\n",
       "      <th>Financial Status</th>\n",
       "      <th>CQS Symbol</th>\n",
       "      <th>NASDAQ Symbol</th>\n",
       "      <th>NextShares</th>\n",
       "    </tr>\n",
       "  </thead>\n",
       "  <tbody>\n",
       "    <tr>\n",
       "      <th>0</th>\n",
       "      <td>Y</td>\n",
       "      <td>A</td>\n",
       "      <td>Agilent Technologies, Inc. Common Stock</td>\n",
       "      <td>N</td>\n",
       "      <td></td>\n",
       "      <td>N</td>\n",
       "      <td>100.0</td>\n",
       "      <td>N</td>\n",
       "      <td>NaN</td>\n",
       "      <td>A</td>\n",
       "      <td>A</td>\n",
       "      <td>N</td>\n",
       "    </tr>\n",
       "    <tr>\n",
       "      <th>1</th>\n",
       "      <td>Y</td>\n",
       "      <td>AA</td>\n",
       "      <td>Alcoa Corporation Common Stock</td>\n",
       "      <td>N</td>\n",
       "      <td></td>\n",
       "      <td>N</td>\n",
       "      <td>100.0</td>\n",
       "      <td>N</td>\n",
       "      <td>NaN</td>\n",
       "      <td>AA</td>\n",
       "      <td>AA</td>\n",
       "      <td>N</td>\n",
       "    </tr>\n",
       "    <tr>\n",
       "      <th>2</th>\n",
       "      <td>Y</td>\n",
       "      <td>AAA</td>\n",
       "      <td>Alternative Access First Priority CLO Bond ETF</td>\n",
       "      <td>P</td>\n",
       "      <td></td>\n",
       "      <td>Y</td>\n",
       "      <td>100.0</td>\n",
       "      <td>N</td>\n",
       "      <td>NaN</td>\n",
       "      <td>AAA</td>\n",
       "      <td>AAA</td>\n",
       "      <td>N</td>\n",
       "    </tr>\n",
       "    <tr>\n",
       "      <th>3</th>\n",
       "      <td>Y</td>\n",
       "      <td>AAAU</td>\n",
       "      <td>Goldman Sachs Physical Gold ETF Shares</td>\n",
       "      <td>Z</td>\n",
       "      <td></td>\n",
       "      <td>Y</td>\n",
       "      <td>100.0</td>\n",
       "      <td>N</td>\n",
       "      <td>NaN</td>\n",
       "      <td>AAAU</td>\n",
       "      <td>AAAU</td>\n",
       "      <td>N</td>\n",
       "    </tr>\n",
       "    <tr>\n",
       "      <th>4</th>\n",
       "      <td>Y</td>\n",
       "      <td>AACG</td>\n",
       "      <td>ATA Creativity Global - American Depositary Sh...</td>\n",
       "      <td>Q</td>\n",
       "      <td>G</td>\n",
       "      <td>N</td>\n",
       "      <td>100.0</td>\n",
       "      <td>N</td>\n",
       "      <td>N</td>\n",
       "      <td>NaN</td>\n",
       "      <td>AACG</td>\n",
       "      <td>N</td>\n",
       "    </tr>\n",
       "    <tr>\n",
       "      <th>...</th>\n",
       "      <td>...</td>\n",
       "      <td>...</td>\n",
       "      <td>...</td>\n",
       "      <td>...</td>\n",
       "      <td>...</td>\n",
       "      <td>...</td>\n",
       "      <td>...</td>\n",
       "      <td>...</td>\n",
       "      <td>...</td>\n",
       "      <td>...</td>\n",
       "      <td>...</td>\n",
       "      <td>...</td>\n",
       "    </tr>\n",
       "    <tr>\n",
       "      <th>11048</th>\n",
       "      <td>Y</td>\n",
       "      <td>ZXZZT</td>\n",
       "      <td>NASDAQ TEST STOCK</td>\n",
       "      <td>Q</td>\n",
       "      <td>G</td>\n",
       "      <td></td>\n",
       "      <td>100.0</td>\n",
       "      <td>Y</td>\n",
       "      <td>N</td>\n",
       "      <td>NaN</td>\n",
       "      <td>ZXZZT</td>\n",
       "      <td>N</td>\n",
       "    </tr>\n",
       "    <tr>\n",
       "      <th>11049</th>\n",
       "      <td>Y</td>\n",
       "      <td>ZYME</td>\n",
       "      <td>Zymeworks Inc. - Common Stock</td>\n",
       "      <td>Q</td>\n",
       "      <td>Q</td>\n",
       "      <td>N</td>\n",
       "      <td>100.0</td>\n",
       "      <td>N</td>\n",
       "      <td>N</td>\n",
       "      <td>NaN</td>\n",
       "      <td>ZYME</td>\n",
       "      <td>N</td>\n",
       "    </tr>\n",
       "    <tr>\n",
       "      <th>11050</th>\n",
       "      <td>Y</td>\n",
       "      <td>ZYXI</td>\n",
       "      <td>Zynex, Inc. - Common Stock</td>\n",
       "      <td>Q</td>\n",
       "      <td>Q</td>\n",
       "      <td>N</td>\n",
       "      <td>100.0</td>\n",
       "      <td>N</td>\n",
       "      <td>N</td>\n",
       "      <td>NaN</td>\n",
       "      <td>ZYXI</td>\n",
       "      <td>N</td>\n",
       "    </tr>\n",
       "    <tr>\n",
       "      <th>11051</th>\n",
       "      <td>Y</td>\n",
       "      <td>ZZZ</td>\n",
       "      <td>Cyber Hornet S&amp;P 500 and Bitcoin 75/25 Strateg...</td>\n",
       "      <td>Q</td>\n",
       "      <td>G</td>\n",
       "      <td>Y</td>\n",
       "      <td>100.0</td>\n",
       "      <td>N</td>\n",
       "      <td>N</td>\n",
       "      <td>NaN</td>\n",
       "      <td>ZZZ</td>\n",
       "      <td>N</td>\n",
       "    </tr>\n",
       "    <tr>\n",
       "      <th>11052</th>\n",
       "      <td>File Creation Time: 0516202407:01</td>\n",
       "      <td>NaN</td>\n",
       "      <td>NaN</td>\n",
       "      <td>NaN</td>\n",
       "      <td>NaN</td>\n",
       "      <td>NaN</td>\n",
       "      <td>NaN</td>\n",
       "      <td>NaN</td>\n",
       "      <td>NaN</td>\n",
       "      <td>NaN</td>\n",
       "      <td>NaN</td>\n",
       "      <td>NaN</td>\n",
       "    </tr>\n",
       "  </tbody>\n",
       "</table>\n",
       "<p>11053 rows × 12 columns</p>\n",
       "</div>"
      ],
      "text/plain": [
       "                           Nasdaq Traded Symbol  \\\n",
       "0                                      Y      A   \n",
       "1                                      Y     AA   \n",
       "2                                      Y    AAA   \n",
       "3                                      Y   AAAU   \n",
       "4                                      Y   AACG   \n",
       "...                                  ...    ...   \n",
       "11048                                  Y  ZXZZT   \n",
       "11049                                  Y   ZYME   \n",
       "11050                                  Y   ZYXI   \n",
       "11051                                  Y    ZZZ   \n",
       "11052  File Creation Time: 0516202407:01    NaN   \n",
       "\n",
       "                                           Security Name Listing Exchange  \\\n",
       "0                Agilent Technologies, Inc. Common Stock                N   \n",
       "1                        Alcoa Corporation Common Stock                 N   \n",
       "2         Alternative Access First Priority CLO Bond ETF                P   \n",
       "3                 Goldman Sachs Physical Gold ETF Shares                Z   \n",
       "4      ATA Creativity Global - American Depositary Sh...                Q   \n",
       "...                                                  ...              ...   \n",
       "11048                                  NASDAQ TEST STOCK                Q   \n",
       "11049                      Zymeworks Inc. - Common Stock                Q   \n",
       "11050                         Zynex, Inc. - Common Stock                Q   \n",
       "11051  Cyber Hornet S&P 500 and Bitcoin 75/25 Strateg...                Q   \n",
       "11052                                                NaN              NaN   \n",
       "\n",
       "      Market Category  ETF  Round Lot Size Test Issue Financial Status  \\\n",
       "0                        N           100.0          N              NaN   \n",
       "1                        N           100.0          N              NaN   \n",
       "2                        Y           100.0          N              NaN   \n",
       "3                        Y           100.0          N              NaN   \n",
       "4                   G    N           100.0          N                N   \n",
       "...               ...  ...             ...        ...              ...   \n",
       "11048               G                100.0          Y                N   \n",
       "11049               Q    N           100.0          N                N   \n",
       "11050               Q    N           100.0          N                N   \n",
       "11051               G    Y           100.0          N                N   \n",
       "11052             NaN  NaN             NaN        NaN              NaN   \n",
       "\n",
       "      CQS Symbol NASDAQ Symbol NextShares  \n",
       "0              A             A          N  \n",
       "1             AA            AA          N  \n",
       "2            AAA           AAA          N  \n",
       "3           AAAU          AAAU          N  \n",
       "4            NaN          AACG          N  \n",
       "...          ...           ...        ...  \n",
       "11048        NaN         ZXZZT          N  \n",
       "11049        NaN          ZYME          N  \n",
       "11050        NaN          ZYXI          N  \n",
       "11051        NaN           ZZZ          N  \n",
       "11052        NaN           NaN        NaN  \n",
       "\n",
       "[11053 rows x 12 columns]"
      ]
     },
     "execution_count": 28,
     "metadata": {},
     "output_type": "execute_result"
    }
   ],
   "source": [
    "df = pd.read_csv('../data/tickers_nasdaq.txt', sep='|')\n",
    "df"
   ]
  },
  {
   "cell_type": "code",
   "execution_count": 30,
   "metadata": {},
   "outputs": [
    {
     "data": {
      "text/plain": [
       "['A',\n",
       " 'AA',\n",
       " 'AAA',\n",
       " 'AAAU',\n",
       " 'AACG',\n",
       " 'AACI',\n",
       " 'AACIU',\n",
       " 'AACIW',\n",
       " 'AACT',\n",
       " 'AACT.U',\n",
       " 'AACT.W',\n",
       " 'AADI',\n",
       " 'AADR',\n",
       " 'AAGR',\n",
       " 'AAGRW',\n",
       " 'AAL',\n",
       " 'AAMC',\n",
       " 'AAME',\n",
       " 'AAN',\n",
       " 'AAOI',\n",
       " 'AAON',\n",
       " 'AAP',\n",
       " 'AAPB',\n",
       " 'AAPD',\n",
       " 'AAPL',\n",
       " 'AAPR',\n",
       " 'AAPU',\n",
       " 'AAPX',\n",
       " 'AAPY',\n",
       " 'AAT',\n",
       " 'AAXJ',\n",
       " 'AB',\n",
       " 'ABAT',\n",
       " 'ABBV',\n",
       " 'ABCB',\n",
       " 'ABCL',\n",
       " 'ABCS',\n",
       " 'ABEO',\n",
       " 'ABEQ',\n",
       " 'ABEV',\n",
       " 'ABG',\n",
       " 'ABIO',\n",
       " 'ABL',\n",
       " 'ABLLL',\n",
       " 'ABLLW',\n",
       " 'ABLV',\n",
       " 'ABLVW',\n",
       " 'ABM',\n",
       " 'ABNB',\n",
       " 'ABOS',\n",
       " 'ABR',\n",
       " 'ABR$D',\n",
       " 'ABR$E',\n",
       " 'ABR$F',\n",
       " 'ABSI',\n",
       " 'ABT',\n",
       " 'ABTS',\n",
       " 'ABUS',\n",
       " 'ABVC',\n",
       " 'ABVX',\n",
       " 'AC',\n",
       " 'ACA',\n",
       " 'ACAB',\n",
       " 'ACABU',\n",
       " 'ACABW',\n",
       " 'ACAC',\n",
       " 'ACACU',\n",
       " 'ACACW',\n",
       " 'ACAD',\n",
       " 'ACB',\n",
       " 'ACBA',\n",
       " 'ACBAU',\n",
       " 'ACBAW',\n",
       " 'ACCD',\n",
       " 'ACCO',\n",
       " 'ACDC',\n",
       " 'ACEL',\n",
       " 'ACES',\n",
       " 'ACET',\n",
       " 'ACGL',\n",
       " 'ACGLN',\n",
       " 'ACGLO',\n",
       " 'ACHC',\n",
       " 'ACHL',\n",
       " 'ACHR',\n",
       " 'ACHR.W',\n",
       " 'ACHV',\n",
       " 'ACI',\n",
       " 'ACIC',\n",
       " 'ACIO',\n",
       " 'ACIU',\n",
       " 'ACIW',\n",
       " 'ACLS',\n",
       " 'ACLX',\n",
       " 'ACM',\n",
       " 'ACMR',\n",
       " 'ACN',\n",
       " 'ACNB',\n",
       " 'ACNT',\n",
       " 'ACON',\n",
       " 'ACONW',\n",
       " 'ACP',\n",
       " 'ACP$A',\n",
       " 'ACR',\n",
       " 'ACR$C',\n",
       " 'ACR$D',\n",
       " 'ACRE',\n",
       " 'ACRS',\n",
       " 'ACRV',\n",
       " 'ACSI',\n",
       " 'ACST',\n",
       " 'ACT',\n",
       " 'ACTG',\n",
       " 'ACTV',\n",
       " 'ACU',\n",
       " 'ACV',\n",
       " 'ACVA',\n",
       " 'ACVF',\n",
       " 'ACWI',\n",
       " 'ACWV',\n",
       " 'ACWX',\n",
       " 'ACXP',\n",
       " 'ADAG',\n",
       " 'ADAP',\n",
       " 'ADBE',\n",
       " 'ADC',\n",
       " 'ADC$A',\n",
       " 'ADCT',\n",
       " 'ADD',\n",
       " 'ADEA',\n",
       " 'ADFI',\n",
       " 'ADI',\n",
       " 'ADIL',\n",
       " 'ADIV',\n",
       " 'ADM',\n",
       " 'ADMA',\n",
       " 'ADME',\n",
       " 'ADN',\n",
       " 'ADNT',\n",
       " 'ADNWW',\n",
       " 'ADP',\n",
       " 'ADPT',\n",
       " 'ADPV',\n",
       " 'ADRT',\n",
       " 'ADRT.U',\n",
       " 'ADSE',\n",
       " 'ADSEW',\n",
       " 'ADSK',\n",
       " 'ADT',\n",
       " 'ADTH',\n",
       " 'ADTHW',\n",
       " 'ADTN',\n",
       " 'ADTX',\n",
       " 'ADUS',\n",
       " 'ADV',\n",
       " 'ADVE',\n",
       " 'ADVM',\n",
       " 'ADVWW',\n",
       " 'ADX',\n",
       " 'ADXN',\n",
       " 'AE',\n",
       " 'AEAE',\n",
       " 'AEAEU',\n",
       " 'AEAEW',\n",
       " 'AEE',\n",
       " 'AEF',\n",
       " 'AEFC',\n",
       " 'AEG',\n",
       " 'AEHL',\n",
       " 'AEHR',\n",
       " 'AEI',\n",
       " 'AEIS',\n",
       " 'AEM',\n",
       " 'AEMB',\n",
       " 'AEMD',\n",
       " 'AENT',\n",
       " 'AENTW',\n",
       " 'AEO',\n",
       " 'AEON',\n",
       " 'AEP',\n",
       " 'AER',\n",
       " 'AERT',\n",
       " 'AERTW',\n",
       " 'AES',\n",
       " 'AESI',\n",
       " 'AESR',\n",
       " 'AETH',\n",
       " 'AEVA',\n",
       " 'AEVA.W',\n",
       " 'AEYE',\n",
       " 'AEZS',\n",
       " 'AFAR',\n",
       " 'AFARU',\n",
       " 'AFARW',\n",
       " 'AFB',\n",
       " 'AFBI',\n",
       " 'AFCG',\n",
       " 'AFG',\n",
       " 'AFGB',\n",
       " 'AFGC',\n",
       " 'AFGD',\n",
       " 'AFGE',\n",
       " 'AFIF',\n",
       " 'AFJK',\n",
       " 'AFJKR',\n",
       " 'AFJKU',\n",
       " 'AFK',\n",
       " 'AFL',\n",
       " 'AFLG',\n",
       " 'AFMC',\n",
       " 'AFMD',\n",
       " 'AFRI',\n",
       " 'AFRIW',\n",
       " 'AFRM',\n",
       " 'AFSM',\n",
       " 'AFT',\n",
       " 'AFTY',\n",
       " 'AFYA',\n",
       " 'AG',\n",
       " 'AGAE',\n",
       " 'AGBA',\n",
       " 'AGBAW',\n",
       " 'AGCO',\n",
       " 'AGD',\n",
       " 'AGEN',\n",
       " 'AGFY',\n",
       " 'AGG',\n",
       " 'AGGH',\n",
       " 'AGGS',\n",
       " 'AGGY',\n",
       " 'AGI',\n",
       " 'AGIH',\n",
       " 'AGIO',\n",
       " 'AGL',\n",
       " 'AGM',\n",
       " 'AGM$C',\n",
       " 'AGM$D',\n",
       " 'AGM$E',\n",
       " 'AGM$F',\n",
       " 'AGM$G',\n",
       " 'AGM.A',\n",
       " 'AGMH',\n",
       " 'AGMI',\n",
       " 'AGNC',\n",
       " 'AGNCL',\n",
       " 'AGNCM',\n",
       " 'AGNCN',\n",
       " 'AGNCO',\n",
       " 'AGNCP',\n",
       " 'AGNG',\n",
       " 'AGO',\n",
       " 'AGOX',\n",
       " 'AGQ',\n",
       " 'AGQI',\n",
       " 'AGR',\n",
       " 'AGRH',\n",
       " 'AGRI',\n",
       " 'AGRIW',\n",
       " 'AGRO',\n",
       " 'AGS',\n",
       " 'AGX',\n",
       " 'AGYS',\n",
       " 'AGZ',\n",
       " 'AGZD',\n",
       " 'AHCO',\n",
       " 'AHG',\n",
       " 'AHH',\n",
       " 'AHH$A',\n",
       " 'AHI',\n",
       " 'AHL$C',\n",
       " 'AHL$D',\n",
       " 'AHL$E',\n",
       " 'AHLT',\n",
       " 'AHOY',\n",
       " 'AHR',\n",
       " 'AHT',\n",
       " 'AHT$D',\n",
       " 'AHT$F',\n",
       " 'AHT$G',\n",
       " 'AHT$H',\n",
       " 'AHT$I',\n",
       " 'AHYB',\n",
       " 'AI',\n",
       " 'AIA',\n",
       " 'AIBD',\n",
       " 'AIBU',\n",
       " 'AIEQ',\n",
       " 'AIF',\n",
       " 'AIFD',\n",
       " 'AIG',\n",
       " 'AIH',\n",
       " 'AIHS',\n",
       " 'AILE',\n",
       " 'AILEW',\n",
       " 'AIM',\n",
       " 'AIMAU',\n",
       " 'AIMAW',\n",
       " 'AIMBU',\n",
       " 'AIMD',\n",
       " 'AIMDW',\n",
       " 'AIN',\n",
       " 'AINC',\n",
       " 'AIO',\n",
       " 'AIP',\n",
       " 'AIQ',\n",
       " 'AIR',\n",
       " 'AIRC',\n",
       " 'AIRE',\n",
       " 'AIRG',\n",
       " 'AIRI',\n",
       " 'AIRJ',\n",
       " 'AIRJW',\n",
       " 'AIRL',\n",
       " 'AIRR',\n",
       " 'AIRS',\n",
       " 'AIRT',\n",
       " 'AIRTP',\n",
       " 'AISP',\n",
       " 'AISPW',\n",
       " 'AIT',\n",
       " 'AITR',\n",
       " 'AITRR',\n",
       " 'AITRU',\n",
       " 'AIU',\n",
       " 'AIV',\n",
       " 'AIVI',\n",
       " 'AIVL',\n",
       " 'AIXI',\n",
       " 'AIYY',\n",
       " 'AIZ',\n",
       " 'AIZN',\n",
       " 'AJAN',\n",
       " 'AJG',\n",
       " 'AJX',\n",
       " 'AKA',\n",
       " 'AKAM',\n",
       " 'AKAN',\n",
       " 'AKBA',\n",
       " 'AKLI',\n",
       " 'AKO.A',\n",
       " 'AKO.B',\n",
       " 'AKR',\n",
       " 'AKRO',\n",
       " 'AKTS',\n",
       " 'AKTX',\n",
       " 'AKYA',\n",
       " 'AL',\n",
       " 'AL$A',\n",
       " 'ALAB',\n",
       " 'ALAI',\n",
       " 'ALAR',\n",
       " 'ALB',\n",
       " 'ALB$A',\n",
       " 'ALBT',\n",
       " 'ALC',\n",
       " 'ALCE',\n",
       " 'ALCO',\n",
       " 'ALCY',\n",
       " 'ALCYU',\n",
       " 'ALCYW',\n",
       " 'ALDX',\n",
       " 'ALE',\n",
       " 'ALEC',\n",
       " 'ALEX',\n",
       " 'ALG',\n",
       " 'ALGM',\n",
       " 'ALGN',\n",
       " 'ALGS',\n",
       " 'ALGT',\n",
       " 'ALHC',\n",
       " 'ALIM',\n",
       " 'ALIT',\n",
       " 'ALK',\n",
       " 'ALKS',\n",
       " 'ALKT',\n",
       " 'ALL',\n",
       " 'ALL$B',\n",
       " 'ALL$H',\n",
       " 'ALL$I',\n",
       " 'ALL$J',\n",
       " 'ALLE',\n",
       " 'ALLG',\n",
       " 'ALLK',\n",
       " 'ALLO',\n",
       " 'ALLR',\n",
       " 'ALLT',\n",
       " 'ALLY',\n",
       " 'ALNT',\n",
       " 'ALNY',\n",
       " 'ALOT',\n",
       " 'ALPN',\n",
       " 'ALPP',\n",
       " 'ALRM',\n",
       " 'ALRN',\n",
       " 'ALRS',\n",
       " 'ALSA',\n",
       " 'ALSAR',\n",
       " 'ALSAU',\n",
       " 'ALSAW',\n",
       " 'ALSN',\n",
       " 'ALT',\n",
       " 'ALTG',\n",
       " 'ALTG$A',\n",
       " 'ALTI',\n",
       " 'ALTL',\n",
       " 'ALTM',\n",
       " 'ALTO',\n",
       " 'ALTR',\n",
       " 'ALTY',\n",
       " 'ALUM',\n",
       " 'ALUR',\n",
       " 'ALUR.W',\n",
       " 'ALV',\n",
       " 'ALVO',\n",
       " 'ALVOW',\n",
       " 'ALVR',\n",
       " 'ALX',\n",
       " 'ALXO',\n",
       " 'ALZN',\n",
       " 'AM',\n",
       " 'AMAL',\n",
       " 'AMAT',\n",
       " 'AMAX',\n",
       " 'AMBA',\n",
       " 'AMBC',\n",
       " 'AMBI',\n",
       " 'AMBI.W',\n",
       " 'AMBO',\n",
       " 'AMBP',\n",
       " 'AMBP.W',\n",
       " 'AMC',\n",
       " 'AMCR',\n",
       " 'AMCX',\n",
       " 'AMD',\n",
       " 'AMDL',\n",
       " 'AMDS',\n",
       " 'AMDY',\n",
       " 'AME',\n",
       " 'AMED',\n",
       " 'AMG',\n",
       " 'AMGN',\n",
       " 'AMH',\n",
       " 'AMH$G',\n",
       " 'AMH$H',\n",
       " 'AMID',\n",
       " 'AMIX',\n",
       " 'AMJ',\n",
       " 'AMJB',\n",
       " 'AMK',\n",
       " 'AMKR',\n",
       " 'AMLI',\n",
       " 'AMLP',\n",
       " 'AMLX',\n",
       " 'AMN',\n",
       " 'AMNA',\n",
       " 'AMND',\n",
       " 'AMOM',\n",
       " 'AMP',\n",
       " 'AMPD',\n",
       " 'AMPG',\n",
       " 'AMPGW',\n",
       " 'AMPH',\n",
       " 'AMPL',\n",
       " 'AMPS',\n",
       " 'AMPX',\n",
       " 'AMPX.W',\n",
       " 'AMPY',\n",
       " 'AMR',\n",
       " 'AMRC',\n",
       " 'AMRK',\n",
       " 'AMRN',\n",
       " 'AMRX',\n",
       " 'AMS',\n",
       " 'AMSC',\n",
       " 'AMSF',\n",
       " 'AMST',\n",
       " 'AMSWA',\n",
       " 'AMT',\n",
       " 'AMTB',\n",
       " 'AMTD',\n",
       " 'AMTR',\n",
       " 'AMTX',\n",
       " 'AMUB',\n",
       " 'AMWD',\n",
       " 'AMWL',\n",
       " 'AMX',\n",
       " 'AMZA',\n",
       " 'AMZD',\n",
       " 'AMZN',\n",
       " 'AMZP',\n",
       " 'AMZU',\n",
       " 'AMZY',\n",
       " 'AMZZ',\n",
       " 'AN',\n",
       " 'ANAB',\n",
       " 'ANDE',\n",
       " 'ANEB',\n",
       " 'ANET',\n",
       " 'ANEW',\n",
       " 'ANF',\n",
       " 'ANG$A',\n",
       " 'ANG$B',\n",
       " 'ANGH',\n",
       " 'ANGHW',\n",
       " 'ANGI',\n",
       " 'ANGL',\n",
       " 'ANGO',\n",
       " 'ANIK',\n",
       " 'ANIP',\n",
       " 'ANIX',\n",
       " 'ANL',\n",
       " 'ANNX',\n",
       " 'ANRO',\n",
       " 'ANSC',\n",
       " 'ANSCU',\n",
       " 'ANSCW',\n",
       " 'ANSS',\n",
       " 'ANTE',\n",
       " 'ANTX',\n",
       " 'ANVS',\n",
       " 'ANY',\n",
       " 'AOA',\n",
       " 'AOD',\n",
       " 'AOGO',\n",
       " 'AOGOU',\n",
       " 'AOGOW',\n",
       " 'AOHY',\n",
       " 'AOK',\n",
       " 'AOM',\n",
       " 'AOMR',\n",
       " 'AON',\n",
       " 'AONC',\n",
       " 'AONCW',\n",
       " 'AOR',\n",
       " 'AORT',\n",
       " 'AOS',\n",
       " 'AOSL',\n",
       " 'AOTG',\n",
       " 'AOUT',\n",
       " 'AP',\n",
       " 'AP.W',\n",
       " 'APA',\n",
       " 'APAM',\n",
       " 'APCA',\n",
       " 'APCA.U',\n",
       " 'APCA.W',\n",
       " 'APCB',\n",
       " 'APCX',\n",
       " 'APCXW',\n",
       " 'APD',\n",
       " 'APDN',\n",
       " 'APEI',\n",
       " 'APG',\n",
       " 'APGE',\n",
       " 'APH',\n",
       " 'API',\n",
       " 'APIE',\n",
       " 'APLD',\n",
       " 'APLE',\n",
       " 'APLM',\n",
       " 'APLMW',\n",
       " 'APLS',\n",
       " 'APLT',\n",
       " 'APLY',\n",
       " 'APM',\n",
       " 'APMU',\n",
       " 'APO',\n",
       " 'APO$A',\n",
       " 'APOG',\n",
       " 'APOS',\n",
       " 'APP',\n",
       " 'APPF',\n",
       " 'APPN',\n",
       " 'APPS',\n",
       " 'APRD',\n",
       " 'APRE',\n",
       " 'APRH',\n",
       " 'APRJ',\n",
       " 'APRP',\n",
       " 'APRQ',\n",
       " 'APRT',\n",
       " 'APRW',\n",
       " 'APRZ',\n",
       " 'APT',\n",
       " 'APTO',\n",
       " 'APTV',\n",
       " 'APUE',\n",
       " 'APVO',\n",
       " 'APWC',\n",
       " 'APXI',\n",
       " 'APXIU',\n",
       " 'APXIW',\n",
       " 'APYX',\n",
       " 'AQB',\n",
       " 'AQMS',\n",
       " 'AQN',\n",
       " 'AQNB',\n",
       " 'AQNU',\n",
       " 'AQST',\n",
       " 'AQU',\n",
       " 'AQUNR',\n",
       " 'AQUNU',\n",
       " 'AQWA',\n",
       " 'AR',\n",
       " 'ARAY',\n",
       " 'ARB',\n",
       " 'ARBB',\n",
       " 'ARBE',\n",
       " 'ARBEW',\n",
       " 'ARBK',\n",
       " 'ARBKL',\n",
       " 'ARC',\n",
       " 'ARCB',\n",
       " 'ARCC',\n",
       " 'ARCH',\n",
       " 'ARCM',\n",
       " 'ARCO',\n",
       " 'ARCT',\n",
       " 'ARDC',\n",
       " 'ARDX',\n",
       " 'ARE',\n",
       " 'AREB',\n",
       " 'AREBW',\n",
       " 'AREC',\n",
       " 'AREN',\n",
       " 'ARES',\n",
       " 'ARGD',\n",
       " 'ARGO$A',\n",
       " 'ARGT',\n",
       " 'ARGX',\n",
       " 'ARHS',\n",
       " 'ARI',\n",
       " 'ARIS',\n",
       " 'ARKA',\n",
       " 'ARKB',\n",
       " 'ARKC',\n",
       " 'ARKD',\n",
       " 'ARKF',\n",
       " 'ARKG',\n",
       " 'ARKK',\n",
       " 'ARKO',\n",
       " 'ARKOW',\n",
       " 'ARKQ',\n",
       " 'ARKR',\n",
       " 'ARKW',\n",
       " 'ARKX',\n",
       " 'ARKY',\n",
       " 'ARKZ',\n",
       " 'ARL',\n",
       " 'ARLO',\n",
       " 'ARLP',\n",
       " 'ARLU',\n",
       " 'ARM',\n",
       " 'ARMK',\n",
       " 'ARMN',\n",
       " 'ARMP',\n",
       " 'AROC',\n",
       " 'AROW',\n",
       " 'ARP',\n",
       " 'ARQ',\n",
       " 'ARQQ',\n",
       " 'ARQQW',\n",
       " 'ARQT',\n",
       " 'ARR',\n",
       " 'ARR$C',\n",
       " 'ARRY',\n",
       " 'ARTL',\n",
       " 'ARTLW',\n",
       " 'ARTNA',\n",
       " 'ARTW',\n",
       " 'ARVN',\n",
       " 'ARVR',\n",
       " 'ARW',\n",
       " 'ARWR',\n",
       " 'ARYD',\n",
       " 'AS',\n",
       " 'ASA',\n",
       " 'ASAI',\n",
       " 'ASAN',\n",
       " 'ASB',\n",
       " 'ASB$E',\n",
       " 'ASB$F',\n",
       " 'ASBA',\n",
       " 'ASC',\n",
       " 'ASCB',\n",
       " 'ASCBR',\n",
       " 'ASCBU',\n",
       " 'ASCBW',\n",
       " 'ASEA',\n",
       " 'ASET',\n",
       " 'ASG',\n",
       " 'ASGI',\n",
       " 'ASGN',\n",
       " 'ASH',\n",
       " 'ASHR',\n",
       " 'ASHS',\n",
       " 'ASIA',\n",
       " 'ASIX',\n",
       " 'ASLE',\n",
       " 'ASLN',\n",
       " 'ASM',\n",
       " 'ASMB',\n",
       " 'ASMF',\n",
       " 'ASML',\n",
       " 'ASND',\n",
       " 'ASNS',\n",
       " 'ASO',\n",
       " 'ASPI',\n",
       " 'ASPN',\n",
       " 'ASPS',\n",
       " 'ASR',\n",
       " 'ASRT',\n",
       " 'ASRV',\n",
       " 'ASST',\n",
       " 'ASTC',\n",
       " 'ASTE',\n",
       " 'ASTH',\n",
       " 'ASTI',\n",
       " 'ASTL',\n",
       " 'ASTLW',\n",
       " 'ASTR',\n",
       " 'ASTS',\n",
       " 'ASTSW',\n",
       " 'ASUR',\n",
       " 'ASX',\n",
       " 'ASXC',\n",
       " 'ASYS',\n",
       " 'ATAI',\n",
       " 'ATAT',\n",
       " 'ATCH',\n",
       " 'ATCO$D',\n",
       " 'ATCO$H',\n",
       " 'ATCOL',\n",
       " 'ATEC',\n",
       " 'ATEK',\n",
       " 'ATEK.U',\n",
       " 'ATEK.W',\n",
       " 'ATEN',\n",
       " 'ATER',\n",
       " 'ATEST',\n",
       " 'ATEST.A',\n",
       " 'ATEST.B',\n",
       " 'ATEST.C',\n",
       " 'ATEX',\n",
       " 'ATFV',\n",
       " 'ATGE',\n",
       " 'ATGL',\n",
       " 'ATH$A',\n",
       " 'ATH$B',\n",
       " 'ATH$C',\n",
       " 'ATH$D',\n",
       " 'ATH$E',\n",
       " 'ATHA',\n",
       " 'ATHE',\n",
       " 'ATHM',\n",
       " 'ATHS',\n",
       " 'ATI',\n",
       " 'ATIF',\n",
       " 'ATIP',\n",
       " 'ATKR',\n",
       " 'ATLC',\n",
       " 'ATLCL',\n",
       " 'ATLCP',\n",
       " 'ATLCZ',\n",
       " 'ATLO',\n",
       " 'ATLX',\n",
       " 'ATMC',\n",
       " 'ATMCR',\n",
       " 'ATMCU',\n",
       " 'ATMCW',\n",
       " 'ATMP',\n",
       " 'ATMU',\n",
       " 'ATMV',\n",
       " 'ATMVR',\n",
       " 'ATMVU',\n",
       " 'ATNF',\n",
       " 'ATNFW',\n",
       " 'ATNI',\n",
       " 'ATNM',\n",
       " 'ATO',\n",
       " 'ATOM',\n",
       " 'ATOS',\n",
       " 'ATPC',\n",
       " 'ATR',\n",
       " 'ATRA',\n",
       " 'ATRC',\n",
       " 'ATRI',\n",
       " 'ATRO',\n",
       " 'ATS',\n",
       " 'ATSG',\n",
       " 'ATUS',\n",
       " 'ATXG',\n",
       " 'ATXI',\n",
       " 'ATXS',\n",
       " 'AU',\n",
       " 'AUB',\n",
       " 'AUB$A',\n",
       " 'AUBN',\n",
       " 'AUDC',\n",
       " 'AUGP',\n",
       " 'AUGT',\n",
       " 'AUGW',\n",
       " 'AUGX',\n",
       " 'AUGZ',\n",
       " 'AUID',\n",
       " 'AULT',\n",
       " 'AULT$D',\n",
       " 'AUMI',\n",
       " 'AUMN',\n",
       " 'AUNA',\n",
       " 'AUPH',\n",
       " 'AUR',\n",
       " 'AURA',\n",
       " 'AUROW',\n",
       " 'AUSF',\n",
       " 'AUST',\n",
       " 'AUTL',\n",
       " 'AUUD',\n",
       " 'AUUDW',\n",
       " 'AUVI',\n",
       " 'AUVIP',\n",
       " 'AVA',\n",
       " 'AVAH',\n",
       " 'AVAL',\n",
       " 'AVAV',\n",
       " 'AVB',\n",
       " 'AVBP',\n",
       " 'AVD',\n",
       " 'AVDE',\n",
       " 'AVDL',\n",
       " 'AVDS',\n",
       " 'AVDV',\n",
       " 'AVDX',\n",
       " 'AVEE',\n",
       " 'AVEM',\n",
       " 'AVES',\n",
       " 'AVGE',\n",
       " 'AVGO',\n",
       " 'AVGR',\n",
       " 'AVGV',\n",
       " 'AVIE',\n",
       " 'AVIG',\n",
       " 'AVIR',\n",
       " 'AVIV',\n",
       " 'AVK',\n",
       " 'AVLC',\n",
       " 'AVLV',\n",
       " 'AVMA',\n",
       " 'AVMC',\n",
       " 'AVMU',\n",
       " 'AVMV',\n",
       " 'AVNM',\n",
       " 'AVNS',\n",
       " 'AVNT',\n",
       " 'AVNV',\n",
       " 'AVNW',\n",
       " 'AVO',\n",
       " 'AVPT',\n",
       " 'AVPTW',\n",
       " 'AVRE',\n",
       " 'AVRO',\n",
       " 'AVSC',\n",
       " 'AVSD',\n",
       " 'AVSE',\n",
       " 'AVSF',\n",
       " 'AVSU',\n",
       " 'AVT',\n",
       " 'AVTE',\n",
       " 'AVTR',\n",
       " 'AVTX',\n",
       " 'AVUS',\n",
       " 'AVUV',\n",
       " 'AVXC',\n",
       " 'AVXL',\n",
       " 'AVY',\n",
       " 'AWAY',\n",
       " 'AWEG',\n",
       " 'AWF',\n",
       " 'AWH',\n",
       " 'AWI',\n",
       " 'AWIN',\n",
       " 'AWINW',\n",
       " 'AWK',\n",
       " 'AWP',\n",
       " 'AWR',\n",
       " 'AWRE',\n",
       " 'AWX',\n",
       " 'AX',\n",
       " 'AXDX',\n",
       " 'AXGN',\n",
       " 'AXIL',\n",
       " 'AXL',\n",
       " 'AXNX',\n",
       " 'AXON',\n",
       " 'AXP',\n",
       " 'AXR',\n",
       " 'AXS',\n",
       " 'AXS$E',\n",
       " 'AXSM',\n",
       " 'AXTA',\n",
       " 'AXTI',\n",
       " 'AY',\n",
       " 'AYI',\n",
       " 'AYRO',\n",
       " 'AYTU',\n",
       " 'AZ',\n",
       " 'AZEK',\n",
       " 'AZN',\n",
       " 'AZO',\n",
       " 'AZPN',\n",
       " 'AZTA',\n",
       " 'AZTD',\n",
       " 'AZTR',\n",
       " 'AZUL',\n",
       " 'AZZ',\n",
       " 'B',\n",
       " 'BA',\n",
       " 'BAB',\n",
       " 'BABA',\n",
       " 'BABX',\n",
       " 'BAC',\n",
       " 'BAC$B',\n",
       " 'BAC$E',\n",
       " 'BAC$K',\n",
       " 'BAC$L',\n",
       " 'BAC$M',\n",
       " 'BAC$N',\n",
       " 'BAC$O',\n",
       " 'BAC$P',\n",
       " 'BAC$Q',\n",
       " 'BAC$S',\n",
       " 'BACA',\n",
       " 'BACK',\n",
       " 'BAER',\n",
       " 'BAERW',\n",
       " 'BAFN',\n",
       " 'BAH',\n",
       " 'BAK',\n",
       " 'BALI',\n",
       " 'BALL',\n",
       " 'BALT',\n",
       " 'BALY',\n",
       " 'BAM',\n",
       " 'BAMA',\n",
       " 'BAMB',\n",
       " 'BAMD',\n",
       " 'BAMG',\n",
       " 'BAMO',\n",
       " 'BAMU',\n",
       " 'BAMV',\n",
       " 'BAMY',\n",
       " 'BANC',\n",
       " 'BANC$F',\n",
       " 'BAND',\n",
       " 'BANF',\n",
       " 'BANFP',\n",
       " 'BANL',\n",
       " 'BANR',\n",
       " 'BANX',\n",
       " 'BAOS',\n",
       " 'BAP',\n",
       " 'BAPR',\n",
       " 'BAR',\n",
       " 'BARK',\n",
       " 'BARK.W',\n",
       " 'BASE',\n",
       " 'BATL',\n",
       " 'BATRA',\n",
       " 'BATRK',\n",
       " 'BATT',\n",
       " 'BAUG',\n",
       " 'BAX',\n",
       " 'BAYA',\n",
       " 'BAYAR',\n",
       " 'BAYAU',\n",
       " 'BB',\n",
       " 'BBAG',\n",
       " 'BBAI',\n",
       " 'BBAI.W',\n",
       " 'BBAR',\n",
       " 'BBAX',\n",
       " 'BBBI',\n",
       " 'BBBL',\n",
       " 'BBBS',\n",
       " 'BBC',\n",
       " 'BBCA',\n",
       " 'BBCB',\n",
       " 'BBCP',\n",
       " 'BBD',\n",
       " 'BBDC',\n",
       " 'BBDO',\n",
       " 'BBEM',\n",
       " 'BBEU',\n",
       " 'BBGI',\n",
       " 'BBH',\n",
       " 'BBHY',\n",
       " 'BBIB',\n",
       " 'BBIN',\n",
       " 'BBIO',\n",
       " 'BBIP',\n",
       " ...]"
      ]
     },
     "execution_count": 30,
     "metadata": {},
     "output_type": "execute_result"
    }
   ],
   "source": [
    "df.Symbol.to_list()"
   ]
  },
  {
   "cell_type": "code",
   "execution_count": null,
   "metadata": {},
   "outputs": [],
   "source": []
  }
 ],
 "metadata": {
  "kernelspec": {
   "display_name": "Python 3",
   "language": "python",
   "name": "python3"
  },
  "language_info": {
   "codemirror_mode": {
    "name": "ipython",
    "version": 3
   },
   "file_extension": ".py",
   "mimetype": "text/x-python",
   "name": "python",
   "nbconvert_exporter": "python",
   "pygments_lexer": "ipython3",
   "version": "3.10.11"
  }
 },
 "nbformat": 4,
 "nbformat_minor": 2
}
